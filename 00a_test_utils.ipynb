{
 "cells": [
  {
   "cell_type": "code",
   "execution_count": null,
   "metadata": {},
   "outputs": [],
   "source": [
    "# default_exp test_utils"
   ]
  },
  {
   "cell_type": "code",
   "execution_count": null,
   "metadata": {},
   "outputs": [],
   "source": [
    "# hide\n",
    "%load_ext autoreload\n",
    "%autoreload 2\n",
    "\n",
    "from nbdev import *"
   ]
  },
  {
   "cell_type": "code",
   "execution_count": null,
   "metadata": {},
   "outputs": [],
   "source": [
    "# export\n",
    "import numpy as np\n",
    "import pandas as pd\n",
    "from collections import namedtuple\n",
    "from pathlib import Path\n",
    "import random\n",
    "from math import isclose\n",
    "import string\n",
    "import pdb"
   ]
  },
  {
   "cell_type": "code",
   "execution_count": null,
   "metadata": {},
   "outputs": [],
   "source": [
    "# export\n",
    "def cont_cat_split(df, dep_var=None, max_card=np.inf, ignore=[]):\n",
    "    \"\"\"\n",
    "    Sugests a split of columns of the dataframe to continuous and categorical ommiting dep_var and \n",
    "    ignore. Split is done based on column datatype: float columns and int with cardinality > max_card \n",
    "    are treated as continuous, all other - categorical.\n",
    "    \"\"\"\n",
    "    cont, cat = [], []\n",
    "    for col in df.columns:\n",
    "        if (col == dep_var) or (col in dep_var) or (col in ignore): continue\n",
    "        if np.issubdtype(df[col].dtype, np.floating) or (len(df[col].unique()) > max_card and np.issubdtype(df[col].dtype, np.integer)):\n",
    "            cont.append(col)\n",
    "        else: #?? any condition np.issubdtype(df[col].dtype, np.integer) \n",
    "            cat.append(col)\n",
    "    return cont, cat"
   ]
  },
  {
   "cell_type": "markdown",
   "metadata": {},
   "source": [
    "## Expr"
   ]
  },
  {
   "cell_type": "code",
   "execution_count": null,
   "metadata": {},
   "outputs": [],
   "source": [
    "rng = np.random.default_rng(8)"
   ]
  },
  {
   "cell_type": "code",
   "execution_count": null,
   "metadata": {},
   "outputs": [
    {
     "data": {
      "text/plain": [
       "array([[2, 0],\n",
       "       [0, 2],\n",
       "       [0, 0],\n",
       "       [1, 2],\n",
       "       [1, 2],\n",
       "       [0, 1],\n",
       "       [1, 1],\n",
       "       [1, 1],\n",
       "       [0, 0],\n",
       "       [1, 1]], dtype=int64)"
      ]
     },
     "execution_count": null,
     "metadata": {},
     "output_type": "execute_result"
    }
   ],
   "source": [
    "x = rng.integers(3, size=(10,2))\n",
    "x"
   ]
  },
  {
   "cell_type": "code",
   "execution_count": null,
   "metadata": {},
   "outputs": [],
   "source": [
    "a = np.array(list(string.ascii_uppercase))"
   ]
  },
  {
   "cell_type": "code",
   "execution_count": null,
   "metadata": {},
   "outputs": [
    {
     "data": {
      "text/plain": [
       "array([['C', 'A'],\n",
       "       ['A', 'C'],\n",
       "       ['A', 'A'],\n",
       "       ['B', 'C'],\n",
       "       ['B', 'C'],\n",
       "       ['A', 'B'],\n",
       "       ['B', 'B'],\n",
       "       ['B', 'B'],\n",
       "       ['A', 'A'],\n",
       "       ['B', 'B']], dtype='<U1')"
      ]
     },
     "execution_count": null,
     "metadata": {},
     "output_type": "execute_result"
    }
   ],
   "source": [
    "a[x]"
   ]
  },
  {
   "cell_type": "code",
   "execution_count": null,
   "metadata": {},
   "outputs": [
    {
     "data": {
      "text/plain": [
       "array([[ 0.76747011, -0.05302978,  0.85979399],\n",
       "       [ 1.50548116, -0.65359453,  0.61035115],\n",
       "       [-0.04267383,  1.44001673, -0.83689502],\n",
       "       [-0.30154661,  0.36233859,  0.25811027],\n",
       "       [-1.63944796,  0.36015523, -0.1184977 ],\n",
       "       [-0.23974785, -0.15530166,  0.21897171],\n",
       "       [-1.81639566,  1.55246657, -0.86144167],\n",
       "       [-2.24136786, -0.08197449,  1.45748042],\n",
       "       [-0.51860097,  1.55127562,  1.556942  ],\n",
       "       [-0.86273192, -2.46512082, -1.23518276]])"
      ]
     },
     "execution_count": null,
     "metadata": {},
     "output_type": "execute_result"
    }
   ],
   "source": [
    "cont = rng.normal(size=(10, 3))\n",
    "cont"
   ]
  },
  {
   "cell_type": "code",
   "execution_count": null,
   "metadata": {},
   "outputs": [
    {
     "data": {
      "text/plain": [
       "array([[        nan, -0.05302978,         nan],\n",
       "       [ 1.50548116, -0.65359453,  0.61035115],\n",
       "       [-0.04267383,  1.44001673, -0.83689502],\n",
       "       [-0.30154661,  0.36233859,  0.25811027],\n",
       "       [-1.63944796,  0.36015523, -0.1184977 ],\n",
       "       [-0.23974785, -0.15530166,  0.21897171],\n",
       "       [-1.81639566,  1.55246657, -0.86144167],\n",
       "       [-2.24136786, -0.08197449,  1.45748042],\n",
       "       [-0.51860097,  1.55127562,  1.556942  ],\n",
       "       [-0.86273192, -2.46512082, -1.23518276]])"
      ]
     },
     "execution_count": null,
     "metadata": {},
     "output_type": "execute_result"
    }
   ],
   "source": [
    "np.where((rng.uniform(size=cont.shape) > 0.9), np.nan, cont)"
   ]
  },
  {
   "cell_type": "markdown",
   "metadata": {},
   "source": [
    "##  Fake data"
   ]
  },
  {
   "cell_type": "code",
   "execution_count": null,
   "metadata": {},
   "outputs": [],
   "source": [
    "# export\n",
    "def fake_data(n=1000, n_cont=5, n_cat=2, task='class', preproc=True, nans=False):\n",
    "    \"\"\"\n",
    "    Generates randomized tabular dataframe conatining:\n",
    "    n samples, n_cont continious features, n_cat categorical features.\n",
    "    If preproc is True, continious values are normalized and categorical features\n",
    "    are numericalized.\n",
    "    If nans is True, some NoN values are added randomly\n",
    "    \"\"\"\n",
    "    rng = np.random.default_rng(8)\n",
    "    \n",
    "    loc = 0. if preproc else rng.uniform(-5, 5, size=(n_cont,))\n",
    "    scale = 1. if preproc else rng.uniform(1, 5, size=(n_cont,))\n",
    "    cont = rng.normal(loc, scale, size=(n, n_cont))\n",
    "    \n",
    "    #mb change to support varying cardinality through categories\n",
    "    cat = rng.integers(3, size=(n, n_cat))\n",
    "    a = np.array(list(string.ascii_uppercase))\n",
    "    cat_data = cat if preproc else a[cat]\n",
    "        \n",
    "    cont_names = [f'cont_{i}' for i in range(n_cont)]\n",
    "    cat_names = [f'cat_{i}' for i in range(n_cat)]\n",
    "    \n",
    "    \n",
    "    cont_data = np.where((rng.uniform(size=cont.shape) > 0.9), np.nan, cont) if nans else cont\n",
    "#         cat_data = np.where((rng.uniform(size=cat_data.shape) > 0.9), np.nan, cat_data)\n",
    "    \n",
    "    left = pd.DataFrame(cont_data, columns=cont_names, dtype=np.float32)\n",
    "    right = pd.DataFrame(cat_data, columns=cat_names)\n",
    "    df = left.join(right)\n",
    "    \n",
    "    if nans:\n",
    "        for col in cat_names:\n",
    "            df.loc[(rng.uniform(size=len(df[col])) > 0.9), col] = np.nan\n",
    "    \n",
    "    df['targ'] = cont.sum(axis=1) + cat.sum(axis=1) - 1\n",
    "    \n",
    "    if task=='class':\n",
    "        df['targ'] = (df['targ']>df['targ'].mean()).astype(np.float32)\n",
    "            \n",
    "    return df, cont_names, cat_names"
   ]
  },
  {
   "cell_type": "code",
   "execution_count": null,
   "metadata": {},
   "outputs": [
    {
     "data": {
      "text/html": [
       "<div>\n",
       "<style scoped>\n",
       "    .dataframe tbody tr th:only-of-type {\n",
       "        vertical-align: middle;\n",
       "    }\n",
       "\n",
       "    .dataframe tbody tr th {\n",
       "        vertical-align: top;\n",
       "    }\n",
       "\n",
       "    .dataframe thead th {\n",
       "        text-align: right;\n",
       "    }\n",
       "</style>\n",
       "<table border=\"1\" class=\"dataframe\">\n",
       "  <thead>\n",
       "    <tr style=\"text-align: right;\">\n",
       "      <th></th>\n",
       "      <th>cont_0</th>\n",
       "      <th>cont_1</th>\n",
       "      <th>cont_2</th>\n",
       "      <th>cont_3</th>\n",
       "      <th>cont_4</th>\n",
       "      <th>cat_0</th>\n",
       "      <th>cat_1</th>\n",
       "      <th>targ</th>\n",
       "    </tr>\n",
       "  </thead>\n",
       "  <tbody>\n",
       "    <tr>\n",
       "      <th>0</th>\n",
       "      <td>-1.738266</td>\n",
       "      <td>-1.336643</td>\n",
       "      <td>-1.361107</td>\n",
       "      <td>-0.351617</td>\n",
       "      <td>-2.312582</td>\n",
       "      <td>2.0</td>\n",
       "      <td>1.0</td>\n",
       "      <td>0.0</td>\n",
       "    </tr>\n",
       "    <tr>\n",
       "      <th>1</th>\n",
       "      <td>-0.188897</td>\n",
       "      <td>-0.957229</td>\n",
       "      <td>NaN</td>\n",
       "      <td>0.956847</td>\n",
       "      <td>1.392258</td>\n",
       "      <td>0.0</td>\n",
       "      <td>NaN</td>\n",
       "      <td>1.0</td>\n",
       "    </tr>\n",
       "    <tr>\n",
       "      <th>2</th>\n",
       "      <td>0.767470</td>\n",
       "      <td>-0.053030</td>\n",
       "      <td>0.859794</td>\n",
       "      <td>1.505481</td>\n",
       "      <td>NaN</td>\n",
       "      <td>NaN</td>\n",
       "      <td>1.0</td>\n",
       "      <td>1.0</td>\n",
       "    </tr>\n",
       "    <tr>\n",
       "      <th>3</th>\n",
       "      <td>0.610351</td>\n",
       "      <td>-0.042674</td>\n",
       "      <td>1.440017</td>\n",
       "      <td>-0.836895</td>\n",
       "      <td>-0.301547</td>\n",
       "      <td>2.0</td>\n",
       "      <td>1.0</td>\n",
       "      <td>1.0</td>\n",
       "    </tr>\n",
       "    <tr>\n",
       "      <th>4</th>\n",
       "      <td>0.362339</td>\n",
       "      <td>0.258110</td>\n",
       "      <td>-1.639448</td>\n",
       "      <td>0.360155</td>\n",
       "      <td>-0.118498</td>\n",
       "      <td>2.0</td>\n",
       "      <td>1.0</td>\n",
       "      <td>1.0</td>\n",
       "    </tr>\n",
       "  </tbody>\n",
       "</table>\n",
       "</div>"
      ],
      "text/plain": [
       "     cont_0    cont_1    cont_2    cont_3    cont_4  cat_0  cat_1  targ\n",
       "0 -1.738266 -1.336643 -1.361107 -0.351617 -2.312582    2.0    1.0   0.0\n",
       "1 -0.188897 -0.957229       NaN  0.956847  1.392258    0.0    NaN   1.0\n",
       "2  0.767470 -0.053030  0.859794  1.505481       NaN    NaN    1.0   1.0\n",
       "3  0.610351 -0.042674  1.440017 -0.836895 -0.301547    2.0    1.0   1.0\n",
       "4  0.362339  0.258110 -1.639448  0.360155 -0.118498    2.0    1.0   1.0"
      ]
     },
     "execution_count": null,
     "metadata": {},
     "output_type": "execute_result"
    }
   ],
   "source": [
    "df, cont_names, cat_names = fake_data(nans=True)\n",
    "df.head(5)"
   ]
  },
  {
   "cell_type": "code",
   "execution_count": null,
   "metadata": {},
   "outputs": [
    {
     "name": "stdout",
     "output_type": "stream",
     "text": [
      "<class 'pandas.core.frame.DataFrame'>\n",
      "RangeIndex: 1000 entries, 0 to 999\n",
      "Data columns (total 8 columns):\n",
      " #   Column  Non-Null Count  Dtype  \n",
      "---  ------  --------------  -----  \n",
      " 0   cont_0  883 non-null    float32\n",
      " 1   cont_1  899 non-null    float32\n",
      " 2   cont_2  912 non-null    float32\n",
      " 3   cont_3  902 non-null    float32\n",
      " 4   cont_4  894 non-null    float32\n",
      " 5   cat_0   891 non-null    float64\n",
      " 6   cat_1   902 non-null    float64\n",
      " 7   targ    1000 non-null   float32\n",
      "dtypes: float32(6), float64(2)\n",
      "memory usage: 39.2 KB\n"
     ]
    }
   ],
   "source": [
    "df.info()"
   ]
  },
  {
   "cell_type": "code",
   "execution_count": null,
   "metadata": {},
   "outputs": [
    {
     "data": {
      "text/plain": [
       "0      1.0\n",
       "1      NaN\n",
       "2      1.0\n",
       "3      1.0\n",
       "4      1.0\n",
       "      ... \n",
       "995    1.0\n",
       "996    2.0\n",
       "997    1.0\n",
       "998    1.0\n",
       "999    0.0\n",
       "Name: cat_1, Length: 1000, dtype: float64"
      ]
     },
     "execution_count": null,
     "metadata": {},
     "output_type": "execute_result"
    }
   ],
   "source": [
    "df['cat_1']"
   ]
  },
  {
   "cell_type": "code",
   "execution_count": null,
   "metadata": {},
   "outputs": [
    {
     "data": {
      "text/html": [
       "<div>\n",
       "<style scoped>\n",
       "    .dataframe tbody tr th:only-of-type {\n",
       "        vertical-align: middle;\n",
       "    }\n",
       "\n",
       "    .dataframe tbody tr th {\n",
       "        vertical-align: top;\n",
       "    }\n",
       "\n",
       "    .dataframe thead th {\n",
       "        text-align: right;\n",
       "    }\n",
       "</style>\n",
       "<table border=\"1\" class=\"dataframe\">\n",
       "  <thead>\n",
       "    <tr style=\"text-align: right;\">\n",
       "      <th></th>\n",
       "      <th>cont_0</th>\n",
       "      <th>cont_1</th>\n",
       "      <th>cont_2</th>\n",
       "      <th>cont_3</th>\n",
       "      <th>cont_4</th>\n",
       "      <th>cat_0</th>\n",
       "      <th>cat_1</th>\n",
       "      <th>targ</th>\n",
       "    </tr>\n",
       "  </thead>\n",
       "  <tbody>\n",
       "    <tr>\n",
       "      <th>0</th>\n",
       "      <td>0.237776</td>\n",
       "      <td>4.726856</td>\n",
       "      <td>0.328851</td>\n",
       "      <td>5.035037</td>\n",
       "      <td>NaN</td>\n",
       "      <td>NaN</td>\n",
       "      <td>C</td>\n",
       "      <td>1.0</td>\n",
       "    </tr>\n",
       "    <tr>\n",
       "      <th>1</th>\n",
       "      <td>-0.165130</td>\n",
       "      <td>4.755350</td>\n",
       "      <td>1.774184</td>\n",
       "      <td>1.690559</td>\n",
       "      <td>2.819697</td>\n",
       "      <td>A</td>\n",
       "      <td>A</td>\n",
       "      <td>1.0</td>\n",
       "    </tr>\n",
       "    <tr>\n",
       "      <th>2</th>\n",
       "      <td>-0.801118</td>\n",
       "      <td>5.582966</td>\n",
       "      <td>-5.896749</td>\n",
       "      <td>3.399724</td>\n",
       "      <td>3.353442</td>\n",
       "      <td>C</td>\n",
       "      <td>NaN</td>\n",
       "      <td>0.0</td>\n",
       "    </tr>\n",
       "    <tr>\n",
       "      <th>3</th>\n",
       "      <td>-2.345072</td>\n",
       "      <td>4.445452</td>\n",
       "      <td>-1.267434</td>\n",
       "      <td>0.292013</td>\n",
       "      <td>8.225743</td>\n",
       "      <td>A</td>\n",
       "      <td>A</td>\n",
       "      <td>0.0</td>\n",
       "    </tr>\n",
       "    <tr>\n",
       "      <th>4</th>\n",
       "      <td>-3.939306</td>\n",
       "      <td>-1.294417</td>\n",
       "      <td>-2.017090</td>\n",
       "      <td>4.966501</td>\n",
       "      <td>2.186796</td>\n",
       "      <td>C</td>\n",
       "      <td>B</td>\n",
       "      <td>0.0</td>\n",
       "    </tr>\n",
       "  </tbody>\n",
       "</table>\n",
       "</div>"
      ],
      "text/plain": [
       "     cont_0    cont_1    cont_2    cont_3    cont_4 cat_0 cat_1  targ\n",
       "0  0.237776  4.726856  0.328851  5.035037       NaN   NaN     C   1.0\n",
       "1 -0.165130  4.755350  1.774184  1.690559  2.819697     A     A   1.0\n",
       "2 -0.801118  5.582966 -5.896749  3.399724  3.353442     C   NaN   0.0\n",
       "3 -2.345072  4.445452 -1.267434  0.292013  8.225743     A     A   0.0\n",
       "4 -3.939306 -1.294417 -2.017090  4.966501  2.186796     C     B   0.0"
      ]
     },
     "execution_count": null,
     "metadata": {},
     "output_type": "execute_result"
    }
   ],
   "source": [
    "df, cont_names, cat_names = fake_data(preproc=False, nans=True)\n",
    "df.head(5)"
   ]
  },
  {
   "cell_type": "code",
   "execution_count": null,
   "metadata": {},
   "outputs": [
    {
     "name": "stdout",
     "output_type": "stream",
     "text": [
      "<class 'pandas.core.frame.DataFrame'>\n",
      "RangeIndex: 1000 entries, 0 to 999\n",
      "Data columns (total 8 columns):\n",
      " #   Column  Non-Null Count  Dtype  \n",
      "---  ------  --------------  -----  \n",
      " 0   cont_0  883 non-null    float32\n",
      " 1   cont_1  899 non-null    float32\n",
      " 2   cont_2  912 non-null    float32\n",
      " 3   cont_3  902 non-null    float32\n",
      " 4   cont_4  894 non-null    float32\n",
      " 5   cat_0   891 non-null    object \n",
      " 6   cat_1   901 non-null    object \n",
      " 7   targ    1000 non-null   float32\n",
      "dtypes: float32(6), object(2)\n",
      "memory usage: 39.2+ KB\n"
     ]
    }
   ],
   "source": [
    "df.info()"
   ]
  },
  {
   "cell_type": "code",
   "execution_count": null,
   "metadata": {},
   "outputs": [
    {
     "data": {
      "text/plain": [
       "0.512"
      ]
     },
     "execution_count": null,
     "metadata": {},
     "output_type": "execute_result"
    }
   ],
   "source": [
    "assert not df['targ'].isna().any()\n",
    "\n",
    "df['targ'].mean()"
   ]
  },
  {
   "cell_type": "code",
   "execution_count": null,
   "metadata": {},
   "outputs": [
    {
     "data": {
      "text/html": [
       "<div>\n",
       "<style scoped>\n",
       "    .dataframe tbody tr th:only-of-type {\n",
       "        vertical-align: middle;\n",
       "    }\n",
       "\n",
       "    .dataframe tbody tr th {\n",
       "        vertical-align: top;\n",
       "    }\n",
       "\n",
       "    .dataframe thead th {\n",
       "        text-align: right;\n",
       "    }\n",
       "</style>\n",
       "<table border=\"1\" class=\"dataframe\">\n",
       "  <thead>\n",
       "    <tr style=\"text-align: right;\">\n",
       "      <th></th>\n",
       "      <th>cont_0</th>\n",
       "      <th>cont_1</th>\n",
       "      <th>cont_2</th>\n",
       "      <th>cont_3</th>\n",
       "      <th>cont_4</th>\n",
       "      <th>cat_0</th>\n",
       "      <th>cat_1</th>\n",
       "      <th>targ</th>\n",
       "    </tr>\n",
       "  </thead>\n",
       "  <tbody>\n",
       "    <tr>\n",
       "      <th>0</th>\n",
       "      <td>0.237776</td>\n",
       "      <td>4.726856</td>\n",
       "      <td>0.328851</td>\n",
       "      <td>5.035037</td>\n",
       "      <td>NaN</td>\n",
       "      <td>NaN</td>\n",
       "      <td>C</td>\n",
       "      <td>15.121694</td>\n",
       "    </tr>\n",
       "    <tr>\n",
       "      <th>1</th>\n",
       "      <td>-0.165130</td>\n",
       "      <td>4.755350</td>\n",
       "      <td>1.774184</td>\n",
       "      <td>1.690559</td>\n",
       "      <td>2.819697</td>\n",
       "      <td>A</td>\n",
       "      <td>A</td>\n",
       "      <td>9.874660</td>\n",
       "    </tr>\n",
       "    <tr>\n",
       "      <th>2</th>\n",
       "      <td>-0.801118</td>\n",
       "      <td>5.582966</td>\n",
       "      <td>-5.896749</td>\n",
       "      <td>3.399724</td>\n",
       "      <td>3.353442</td>\n",
       "      <td>C</td>\n",
       "      <td>NaN</td>\n",
       "      <td>7.638265</td>\n",
       "    </tr>\n",
       "    <tr>\n",
       "      <th>3</th>\n",
       "      <td>-2.345072</td>\n",
       "      <td>4.445452</td>\n",
       "      <td>-1.267434</td>\n",
       "      <td>0.292013</td>\n",
       "      <td>8.225743</td>\n",
       "      <td>A</td>\n",
       "      <td>A</td>\n",
       "      <td>8.350702</td>\n",
       "    </tr>\n",
       "    <tr>\n",
       "      <th>4</th>\n",
       "      <td>-3.939306</td>\n",
       "      <td>-1.294417</td>\n",
       "      <td>-2.017090</td>\n",
       "      <td>4.966501</td>\n",
       "      <td>2.186796</td>\n",
       "      <td>C</td>\n",
       "      <td>B</td>\n",
       "      <td>1.902485</td>\n",
       "    </tr>\n",
       "  </tbody>\n",
       "</table>\n",
       "</div>"
      ],
      "text/plain": [
       "     cont_0    cont_1    cont_2    cont_3    cont_4 cat_0 cat_1       targ\n",
       "0  0.237776  4.726856  0.328851  5.035037       NaN   NaN     C  15.121694\n",
       "1 -0.165130  4.755350  1.774184  1.690559  2.819697     A     A   9.874660\n",
       "2 -0.801118  5.582966 -5.896749  3.399724  3.353442     C   NaN   7.638265\n",
       "3 -2.345072  4.445452 -1.267434  0.292013  8.225743     A     A   8.350702\n",
       "4 -3.939306 -1.294417 -2.017090  4.966501  2.186796     C     B   1.902485"
      ]
     },
     "execution_count": null,
     "metadata": {},
     "output_type": "execute_result"
    }
   ],
   "source": [
    "df, cont_names, cat_names = fake_data(preproc=False, nans=True, task='reg')\n",
    "df.head(5)"
   ]
  },
  {
   "cell_type": "code",
   "execution_count": null,
   "metadata": {},
   "outputs": [
    {
     "name": "stdout",
     "output_type": "stream",
     "text": [
      "<class 'pandas.core.frame.DataFrame'>\n",
      "RangeIndex: 1000 entries, 0 to 999\n",
      "Data columns (total 8 columns):\n",
      " #   Column  Non-Null Count  Dtype  \n",
      "---  ------  --------------  -----  \n",
      " 0   cont_0  883 non-null    float32\n",
      " 1   cont_1  899 non-null    float32\n",
      " 2   cont_2  912 non-null    float32\n",
      " 3   cont_3  902 non-null    float32\n",
      " 4   cont_4  894 non-null    float32\n",
      " 5   cat_0   891 non-null    object \n",
      " 6   cat_1   901 non-null    object \n",
      " 7   targ    1000 non-null   float64\n",
      "dtypes: float32(5), float64(1), object(2)\n",
      "memory usage: 43.1+ KB\n"
     ]
    }
   ],
   "source": [
    "df.info()"
   ]
  },
  {
   "cell_type": "code",
   "execution_count": null,
   "metadata": {},
   "outputs": [
    {
     "data": {
      "text/plain": [
       "8.900451063493145"
      ]
     },
     "execution_count": null,
     "metadata": {},
     "output_type": "execute_result"
    }
   ],
   "source": [
    "assert not df['targ'].isna().any()\n",
    "\n",
    "df['targ'].mean()"
   ]
  },
  {
   "cell_type": "code",
   "execution_count": null,
   "metadata": {},
   "outputs": [],
   "source": [
    "def print_stat(df):\n",
    "    for col in cont_names:\n",
    "        print(f'{col}: mean={df[col].mean():.4f}, std ={df[col].std():.4f}')"
   ]
  },
  {
   "cell_type": "markdown",
   "metadata": {},
   "source": [
    "## Tests for dataframes"
   ]
  },
  {
   "cell_type": "code",
   "execution_count": null,
   "metadata": {},
   "outputs": [],
   "source": [
    "# export\n",
    "def test_normalized(df, cont_names):\n",
    "    \"\"\"Test if all columns in cont_names of the dataframe are close to standard normal\"\"\"\n",
    "    for m in df[cont_names].mean():\n",
    "        assert isclose(m, 0, abs_tol=0.2), f'mean is {m}'\n",
    "    for s in df[cont_names].std():\n",
    "        assert isclose(s, 1, abs_tol=0.2), f'std is {s}'"
   ]
  },
  {
   "cell_type": "code",
   "execution_count": null,
   "metadata": {},
   "outputs": [],
   "source": [
    "df, cont_names, cat_names = fake_data()\n",
    "dep_var = ['targ']\n",
    "test_normalized(df, cont_names)"
   ]
  },
  {
   "cell_type": "code",
   "execution_count": null,
   "metadata": {},
   "outputs": [
    {
     "name": "stdout",
     "output_type": "stream",
     "text": [
      "Test not passed as intended\n"
     ]
    }
   ],
   "source": [
    "df, cont_names, cat_names = fake_data(preproc=False)\n",
    "dep_var = ['targ']\n",
    "try:\n",
    "    test_normalized(df, cont_names)\n",
    "except AssertionError:\n",
    "    print('Test not passed as intended')"
   ]
  },
  {
   "cell_type": "code",
   "execution_count": null,
   "metadata": {},
   "outputs": [],
   "source": [
    "# export\n",
    "def test_nans(df, cont_names, cat_names):\n",
    "    assert df[cont_names].notna().all().all(), 'There are NaNs in continiuous columns'\n",
    "    assert df[cat_names].notna().all().all(), 'There are NaNs in categorical columns'"
   ]
  },
  {
   "cell_type": "code",
   "execution_count": null,
   "metadata": {},
   "outputs": [],
   "source": [
    "df, cont_names, cat_names = fake_data()\n",
    "dep_var = ['targ']\n",
    "test_nans(df, cont_names, cat_names)"
   ]
  },
  {
   "cell_type": "code",
   "execution_count": null,
   "metadata": {},
   "outputs": [
    {
     "name": "stdout",
     "output_type": "stream",
     "text": [
      "There are NaNs in continiuous columns\n"
     ]
    }
   ],
   "source": [
    "df, cont_names, cat_names = fake_data(nans=True)\n",
    "dep_var = ['targ']\n",
    "try:\n",
    "    test_nans(df, cont_names, cat_names)\n",
    "except AssertionError as e:\n",
    "    print(e)"
   ]
  },
  {
   "cell_type": "code",
   "execution_count": null,
   "metadata": {},
   "outputs": [],
   "source": [
    "# export\n",
    "def test_categorical(df, cat_names):\n",
    "    for col in cat_names:\n",
    "        assert np.issubdtype(df[col].dtype, np.integer), f'{col} dtype is not int'"
   ]
  },
  {
   "cell_type": "code",
   "execution_count": null,
   "metadata": {},
   "outputs": [],
   "source": [
    "df, cont_names, cat_names = fake_data()\n",
    "dep_var = ['targ']\n",
    "test_categorical(df, cat_names)"
   ]
  },
  {
   "cell_type": "code",
   "execution_count": null,
   "metadata": {},
   "outputs": [
    {
     "name": "stdout",
     "output_type": "stream",
     "text": [
      "cat_0 dtype is not int\n"
     ]
    }
   ],
   "source": [
    "df, cont_names, cat_names = fake_data(preproc=False)\n",
    "dep_var = ['targ']\n",
    "try:\n",
    "    test_categorical(df, cat_names)\n",
    "except AssertionError as e:\n",
    "    print(e)"
   ]
  },
  {
   "cell_type": "code",
   "execution_count": null,
   "metadata": {},
   "outputs": [],
   "source": [
    "# export\n",
    "def test_df_processed(df, cont_names=[], cat_names=[], dep_var=[]):\n",
    "    if not dep_var: dep_var = ['targ']\n",
    "    if not (cont_names or cat_names):\n",
    "        cont_names, cat_names = cont_cat_split(df, dep_var=dep_var)\n",
    "    test_normalized(df, cont_names)\n",
    "    test_nans(df, cont_names, cat_names)\n",
    "    test_categorical(df, cat_names)"
   ]
  },
  {
   "cell_type": "code",
   "execution_count": null,
   "metadata": {},
   "outputs": [],
   "source": [
    "df, cont_names, cat_names = fake_data()\n",
    "dep_var = ['targ']\n",
    "test_df_processed(df, cont_names, cat_names, dep_var)"
   ]
  },
  {
   "cell_type": "code",
   "execution_count": null,
   "metadata": {},
   "outputs": [],
   "source": [
    "df = pd.read_csv(Path('./datasets/adult_preproc.csv'), index_col=0)\n",
    "test_df_processed(df, dep_var=['salary'])"
   ]
  },
  {
   "cell_type": "code",
   "execution_count": null,
   "metadata": {},
   "outputs": [
    {
     "name": "stdout",
     "output_type": "stream",
     "text": [
      "Converted 00_core.ipynb.\n",
      "Converted 00a_test_utils.ipynb.\n",
      "Converted 01_data.ipynb.\n",
      "Converted 02_model.ipynb.\n",
      "Converted 03_learner.ipynb.\n",
      "Converted index.ipynb.\n"
     ]
    }
   ],
   "source": [
    "# hide\n",
    "from nbdev.export import notebook2script\n",
    "notebook2script()"
   ]
  },
  {
   "cell_type": "code",
   "execution_count": null,
   "metadata": {},
   "outputs": [],
   "source": []
  }
 ],
 "metadata": {
  "kernelspec": {
   "display_name": "Python 3",
   "language": "python",
   "name": "python3"
  }
 },
 "nbformat": 4,
 "nbformat_minor": 4
}
