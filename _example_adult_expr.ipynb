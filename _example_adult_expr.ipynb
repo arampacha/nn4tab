{
 "cells": [
  {
   "cell_type": "code",
   "execution_count": null,
   "metadata": {},
   "outputs": [],
   "source": [
    "%load_ext autoreload\n",
    "%autoreload 2"
   ]
  },
  {
   "cell_type": "code",
   "execution_count": null,
   "metadata": {},
   "outputs": [],
   "source": [
    "import numpy as np\n",
    "import pandas as pd\n",
    "import torch\n",
    "from torch import nn\n",
    "\n",
    "from pathlib import Path\n",
    "from tqdm import tqdm\n",
    "import gc\n",
    "from pandas.api.types import is_categorical_dtype, is_numeric_dtype"
   ]
  },
  {
   "cell_type": "code",
   "execution_count": null,
   "metadata": {},
   "outputs": [],
   "source": [
    "import nn4tab"
   ]
  },
  {
   "cell_type": "code",
   "execution_count": null,
   "metadata": {},
   "outputs": [
    {
     "ename": "ModuleNotFoundError",
     "evalue": "No module named 'nn4tab.model.all'; 'nn4tab.model' is not a package",
     "output_type": "error",
     "traceback": [
      "\u001b[1;31m---------------------------------------------------------------------------\u001b[0m",
      "\u001b[1;31mModuleNotFoundError\u001b[0m                       Traceback (most recent call last)",
      "\u001b[1;32m<ipython-input-8-d1f57efc1f6b>\u001b[0m in \u001b[0;36m<module>\u001b[1;34m\u001b[0m\n\u001b[1;32m----> 1\u001b[1;33m \u001b[1;32mfrom\u001b[0m \u001b[0mnn4tab\u001b[0m\u001b[1;33m.\u001b[0m\u001b[0mmodel\u001b[0m\u001b[1;33m.\u001b[0m\u001b[0mall\u001b[0m \u001b[1;32mimport\u001b[0m \u001b[1;33m*\u001b[0m\u001b[1;33m\u001b[0m\u001b[1;33m\u001b[0m\u001b[0m\n\u001b[0m",
      "\u001b[1;31mModuleNotFoundError\u001b[0m: No module named 'nn4tab.model.all'; 'nn4tab.model' is not a package"
     ]
    }
   ],
   "source": [
    "from nn4tab.model.all import *"
   ]
  },
  {
   "cell_type": "markdown",
   "metadata": {},
   "source": [
    "# Data"
   ]
  },
  {
   "cell_type": "code",
   "execution_count": null,
   "metadata": {},
   "outputs": [],
   "source": [
    "from nn4tab.data import DataLoader, TabularDataset, get_dsets, cont_cat_split"
   ]
  },
  {
   "cell_type": "code",
   "execution_count": null,
   "metadata": {},
   "outputs": [],
   "source": [
    "df = pd.read_csv('datasets//adult.csv')"
   ]
  },
  {
   "cell_type": "code",
   "execution_count": null,
   "metadata": {},
   "outputs": [
    {
     "data": {
      "text/html": [
       "<div>\n",
       "<style scoped>\n",
       "    .dataframe tbody tr th:only-of-type {\n",
       "        vertical-align: middle;\n",
       "    }\n",
       "\n",
       "    .dataframe tbody tr th {\n",
       "        vertical-align: top;\n",
       "    }\n",
       "\n",
       "    .dataframe thead th {\n",
       "        text-align: right;\n",
       "    }\n",
       "</style>\n",
       "<table border=\"1\" class=\"dataframe\">\n",
       "  <thead>\n",
       "    <tr style=\"text-align: right;\">\n",
       "      <th></th>\n",
       "      <th>age</th>\n",
       "      <th>workclass</th>\n",
       "      <th>fnlwgt</th>\n",
       "      <th>education</th>\n",
       "      <th>education-num</th>\n",
       "      <th>marital-status</th>\n",
       "      <th>occupation</th>\n",
       "      <th>relationship</th>\n",
       "      <th>race</th>\n",
       "      <th>sex</th>\n",
       "      <th>capital-gain</th>\n",
       "      <th>capital-loss</th>\n",
       "      <th>hours-per-week</th>\n",
       "      <th>native-country</th>\n",
       "      <th>salary</th>\n",
       "    </tr>\n",
       "  </thead>\n",
       "  <tbody>\n",
       "    <tr>\n",
       "      <th>0</th>\n",
       "      <td>49</td>\n",
       "      <td>Private</td>\n",
       "      <td>101320</td>\n",
       "      <td>Assoc-acdm</td>\n",
       "      <td>12.0</td>\n",
       "      <td>Married-civ-spouse</td>\n",
       "      <td>NaN</td>\n",
       "      <td>Wife</td>\n",
       "      <td>White</td>\n",
       "      <td>Female</td>\n",
       "      <td>0</td>\n",
       "      <td>1902</td>\n",
       "      <td>40</td>\n",
       "      <td>United-States</td>\n",
       "      <td>&gt;=50k</td>\n",
       "    </tr>\n",
       "    <tr>\n",
       "      <th>1</th>\n",
       "      <td>44</td>\n",
       "      <td>Private</td>\n",
       "      <td>236746</td>\n",
       "      <td>Masters</td>\n",
       "      <td>14.0</td>\n",
       "      <td>Divorced</td>\n",
       "      <td>Exec-managerial</td>\n",
       "      <td>Not-in-family</td>\n",
       "      <td>White</td>\n",
       "      <td>Male</td>\n",
       "      <td>10520</td>\n",
       "      <td>0</td>\n",
       "      <td>45</td>\n",
       "      <td>United-States</td>\n",
       "      <td>&gt;=50k</td>\n",
       "    </tr>\n",
       "    <tr>\n",
       "      <th>2</th>\n",
       "      <td>38</td>\n",
       "      <td>Private</td>\n",
       "      <td>96185</td>\n",
       "      <td>HS-grad</td>\n",
       "      <td>NaN</td>\n",
       "      <td>Divorced</td>\n",
       "      <td>NaN</td>\n",
       "      <td>Unmarried</td>\n",
       "      <td>Black</td>\n",
       "      <td>Female</td>\n",
       "      <td>0</td>\n",
       "      <td>0</td>\n",
       "      <td>32</td>\n",
       "      <td>United-States</td>\n",
       "      <td>&lt;50k</td>\n",
       "    </tr>\n",
       "    <tr>\n",
       "      <th>3</th>\n",
       "      <td>38</td>\n",
       "      <td>Self-emp-inc</td>\n",
       "      <td>112847</td>\n",
       "      <td>Prof-school</td>\n",
       "      <td>15.0</td>\n",
       "      <td>Married-civ-spouse</td>\n",
       "      <td>Prof-specialty</td>\n",
       "      <td>Husband</td>\n",
       "      <td>Asian-Pac-Islander</td>\n",
       "      <td>Male</td>\n",
       "      <td>0</td>\n",
       "      <td>0</td>\n",
       "      <td>40</td>\n",
       "      <td>United-States</td>\n",
       "      <td>&gt;=50k</td>\n",
       "    </tr>\n",
       "    <tr>\n",
       "      <th>4</th>\n",
       "      <td>42</td>\n",
       "      <td>Self-emp-not-inc</td>\n",
       "      <td>82297</td>\n",
       "      <td>7th-8th</td>\n",
       "      <td>NaN</td>\n",
       "      <td>Married-civ-spouse</td>\n",
       "      <td>Other-service</td>\n",
       "      <td>Wife</td>\n",
       "      <td>Black</td>\n",
       "      <td>Female</td>\n",
       "      <td>0</td>\n",
       "      <td>0</td>\n",
       "      <td>50</td>\n",
       "      <td>United-States</td>\n",
       "      <td>&lt;50k</td>\n",
       "    </tr>\n",
       "  </tbody>\n",
       "</table>\n",
       "</div>"
      ],
      "text/plain": [
       "   age          workclass  fnlwgt     education  education-num  \\\n",
       "0   49            Private  101320    Assoc-acdm           12.0   \n",
       "1   44            Private  236746       Masters           14.0   \n",
       "2   38            Private   96185       HS-grad            NaN   \n",
       "3   38       Self-emp-inc  112847   Prof-school           15.0   \n",
       "4   42   Self-emp-not-inc   82297       7th-8th            NaN   \n",
       "\n",
       "        marital-status        occupation    relationship                 race  \\\n",
       "0   Married-civ-spouse               NaN            Wife                White   \n",
       "1             Divorced   Exec-managerial   Not-in-family                White   \n",
       "2             Divorced               NaN       Unmarried                Black   \n",
       "3   Married-civ-spouse    Prof-specialty         Husband   Asian-Pac-Islander   \n",
       "4   Married-civ-spouse     Other-service            Wife                Black   \n",
       "\n",
       "       sex  capital-gain  capital-loss  hours-per-week  native-country salary  \n",
       "0   Female             0          1902              40   United-States  >=50k  \n",
       "1     Male         10520             0              45   United-States  >=50k  \n",
       "2   Female             0             0              32   United-States   <50k  \n",
       "3     Male             0             0              40   United-States  >=50k  \n",
       "4   Female             0             0              50   United-States   <50k  "
      ]
     },
     "execution_count": null,
     "metadata": {},
     "output_type": "execute_result"
    }
   ],
   "source": [
    "df.head()"
   ]
  },
  {
   "cell_type": "code",
   "execution_count": null,
   "metadata": {},
   "outputs": [],
   "source": [
    "tmp = df[['education', 'education-num']].groupby('education', as_index=False).agg('mean')"
   ]
  },
  {
   "cell_type": "code",
   "execution_count": null,
   "metadata": {},
   "outputs": [
    {
     "data": {
      "text/plain": [
       "0.0"
      ]
     },
     "execution_count": null,
     "metadata": {},
     "output_type": "execute_result"
    }
   ],
   "source": [
    "mgd = df[['education', 'education-num']].merge(tmp, how='left', on='education')\n",
    "(mgd['education-num_x'] - mgd['education-num_y']).sum()"
   ]
  },
  {
   "cell_type": "code",
   "execution_count": null,
   "metadata": {},
   "outputs": [],
   "source": [
    "df['education-num'] = mgd['education-num_y']"
   ]
  },
  {
   "cell_type": "code",
   "execution_count": null,
   "metadata": {},
   "outputs": [
    {
     "data": {
      "text/plain": [
       "60"
      ]
     },
     "execution_count": null,
     "metadata": {},
     "output_type": "execute_result"
    }
   ],
   "source": [
    "del tmp, mgd\n",
    "gc.collect()"
   ]
  },
  {
   "cell_type": "code",
   "execution_count": null,
   "metadata": {},
   "outputs": [],
   "source": [
    "def normalize_numeric_cols(df):\n",
    "    for col in df.columns:\n",
    "        if is_numeric_dtype(df[col]):\n",
    "            df[col] = ((df[col]-df[col].mean())/df[col].std()).astype(np.float32)"
   ]
  },
  {
   "cell_type": "code",
   "execution_count": null,
   "metadata": {},
   "outputs": [],
   "source": [
    "normalize_numeric_cols(df)"
   ]
  },
  {
   "cell_type": "code",
   "execution_count": null,
   "metadata": {},
   "outputs": [
    {
     "data": {
      "text/html": [
       "<div>\n",
       "<style scoped>\n",
       "    .dataframe tbody tr th:only-of-type {\n",
       "        vertical-align: middle;\n",
       "    }\n",
       "\n",
       "    .dataframe tbody tr th {\n",
       "        vertical-align: top;\n",
       "    }\n",
       "\n",
       "    .dataframe thead th {\n",
       "        text-align: right;\n",
       "    }\n",
       "</style>\n",
       "<table border=\"1\" class=\"dataframe\">\n",
       "  <thead>\n",
       "    <tr style=\"text-align: right;\">\n",
       "      <th></th>\n",
       "      <th>age</th>\n",
       "      <th>workclass</th>\n",
       "      <th>fnlwgt</th>\n",
       "      <th>education</th>\n",
       "      <th>education-num</th>\n",
       "      <th>marital-status</th>\n",
       "      <th>occupation</th>\n",
       "      <th>relationship</th>\n",
       "      <th>race</th>\n",
       "      <th>sex</th>\n",
       "      <th>capital-gain</th>\n",
       "      <th>capital-loss</th>\n",
       "      <th>hours-per-week</th>\n",
       "      <th>native-country</th>\n",
       "      <th>salary</th>\n",
       "    </tr>\n",
       "  </thead>\n",
       "  <tbody>\n",
       "    <tr>\n",
       "      <th>0</th>\n",
       "      <td>0.763785</td>\n",
       "      <td>Private</td>\n",
       "      <td>-0.838071</td>\n",
       "      <td>Assoc-acdm</td>\n",
       "      <td>0.746028</td>\n",
       "      <td>Married-civ-spouse</td>\n",
       "      <td>NaN</td>\n",
       "      <td>Wife</td>\n",
       "      <td>White</td>\n",
       "      <td>Female</td>\n",
       "      <td>-0.145918</td>\n",
       "      <td>4.503413</td>\n",
       "      <td>-0.035429</td>\n",
       "      <td>United-States</td>\n",
       "      <td>&gt;=50k</td>\n",
       "    </tr>\n",
       "    <tr>\n",
       "      <th>1</th>\n",
       "      <td>0.397227</td>\n",
       "      <td>Private</td>\n",
       "      <td>0.444980</td>\n",
       "      <td>Masters</td>\n",
       "      <td>1.523415</td>\n",
       "      <td>Divorced</td>\n",
       "      <td>Exec-managerial</td>\n",
       "      <td>Not-in-family</td>\n",
       "      <td>White</td>\n",
       "      <td>Male</td>\n",
       "      <td>1.278535</td>\n",
       "      <td>-0.216656</td>\n",
       "      <td>0.369514</td>\n",
       "      <td>United-States</td>\n",
       "      <td>&gt;=50k</td>\n",
       "    </tr>\n",
       "    <tr>\n",
       "      <th>2</th>\n",
       "      <td>-0.042641</td>\n",
       "      <td>Private</td>\n",
       "      <td>-0.886721</td>\n",
       "      <td>HS-grad</td>\n",
       "      <td>-0.420053</td>\n",
       "      <td>Divorced</td>\n",
       "      <td>NaN</td>\n",
       "      <td>Unmarried</td>\n",
       "      <td>Black</td>\n",
       "      <td>Female</td>\n",
       "      <td>-0.145918</td>\n",
       "      <td>-0.216656</td>\n",
       "      <td>-0.683337</td>\n",
       "      <td>United-States</td>\n",
       "      <td>&lt;50k</td>\n",
       "    </tr>\n",
       "    <tr>\n",
       "      <th>3</th>\n",
       "      <td>-0.042641</td>\n",
       "      <td>Self-emp-inc</td>\n",
       "      <td>-0.728862</td>\n",
       "      <td>Prof-school</td>\n",
       "      <td>1.912109</td>\n",
       "      <td>Married-civ-spouse</td>\n",
       "      <td>Prof-specialty</td>\n",
       "      <td>Husband</td>\n",
       "      <td>Asian-Pac-Islander</td>\n",
       "      <td>Male</td>\n",
       "      <td>-0.145918</td>\n",
       "      <td>-0.216656</td>\n",
       "      <td>-0.035429</td>\n",
       "      <td>United-States</td>\n",
       "      <td>&gt;=50k</td>\n",
       "    </tr>\n",
       "    <tr>\n",
       "      <th>4</th>\n",
       "      <td>0.250604</td>\n",
       "      <td>Self-emp-not-inc</td>\n",
       "      <td>-1.018298</td>\n",
       "      <td>7th-8th</td>\n",
       "      <td>-2.363521</td>\n",
       "      <td>Married-civ-spouse</td>\n",
       "      <td>Other-service</td>\n",
       "      <td>Wife</td>\n",
       "      <td>Black</td>\n",
       "      <td>Female</td>\n",
       "      <td>-0.145918</td>\n",
       "      <td>-0.216656</td>\n",
       "      <td>0.774456</td>\n",
       "      <td>United-States</td>\n",
       "      <td>&lt;50k</td>\n",
       "    </tr>\n",
       "  </tbody>\n",
       "</table>\n",
       "</div>"
      ],
      "text/plain": [
       "        age          workclass    fnlwgt     education  education-num  \\\n",
       "0  0.763785            Private -0.838071    Assoc-acdm       0.746028   \n",
       "1  0.397227            Private  0.444980       Masters       1.523415   \n",
       "2 -0.042641            Private -0.886721       HS-grad      -0.420053   \n",
       "3 -0.042641       Self-emp-inc -0.728862   Prof-school       1.912109   \n",
       "4  0.250604   Self-emp-not-inc -1.018298       7th-8th      -2.363521   \n",
       "\n",
       "        marital-status        occupation    relationship                 race  \\\n",
       "0   Married-civ-spouse               NaN            Wife                White   \n",
       "1             Divorced   Exec-managerial   Not-in-family                White   \n",
       "2             Divorced               NaN       Unmarried                Black   \n",
       "3   Married-civ-spouse    Prof-specialty         Husband   Asian-Pac-Islander   \n",
       "4   Married-civ-spouse     Other-service            Wife                Black   \n",
       "\n",
       "       sex  capital-gain  capital-loss  hours-per-week  native-country salary  \n",
       "0   Female     -0.145918      4.503413       -0.035429   United-States  >=50k  \n",
       "1     Male      1.278535     -0.216656        0.369514   United-States  >=50k  \n",
       "2   Female     -0.145918     -0.216656       -0.683337   United-States   <50k  \n",
       "3     Male     -0.145918     -0.216656       -0.035429   United-States  >=50k  \n",
       "4   Female     -0.145918     -0.216656        0.774456   United-States   <50k  "
      ]
     },
     "execution_count": null,
     "metadata": {},
     "output_type": "execute_result"
    }
   ],
   "source": [
    "df.head()"
   ]
  },
  {
   "cell_type": "code",
   "execution_count": null,
   "metadata": {},
   "outputs": [],
   "source": [
    "def categorify(df):\n",
    "    for col in df.columns:\n",
    "        if not is_numeric_dtype(df[col]):\n",
    "            df[col] = df[col].astype('category')"
   ]
  },
  {
   "cell_type": "code",
   "execution_count": null,
   "metadata": {},
   "outputs": [],
   "source": [
    "categorify(df)"
   ]
  },
  {
   "cell_type": "code",
   "execution_count": null,
   "metadata": {},
   "outputs": [
    {
     "name": "stdout",
     "output_type": "stream",
     "text": [
      "<class 'pandas.core.frame.DataFrame'>\n",
      "RangeIndex: 32561 entries, 0 to 32560\n",
      "Data columns (total 15 columns):\n",
      " #   Column          Non-Null Count  Dtype   \n",
      "---  ------          --------------  -----   \n",
      " 0   age             32561 non-null  float32 \n",
      " 1   workclass       32561 non-null  category\n",
      " 2   fnlwgt          32561 non-null  float32 \n",
      " 3   education       32561 non-null  category\n",
      " 4   education-num   32561 non-null  float32 \n",
      " 5   marital-status  32561 non-null  category\n",
      " 6   occupation      32049 non-null  category\n",
      " 7   relationship    32561 non-null  category\n",
      " 8   race            32561 non-null  category\n",
      " 9   sex             32561 non-null  category\n",
      " 10  capital-gain    32561 non-null  float32 \n",
      " 11  capital-loss    32561 non-null  float32 \n",
      " 12  hours-per-week  32561 non-null  float32 \n",
      " 13  native-country  32561 non-null  category\n",
      " 14  salary          32561 non-null  category\n",
      "dtypes: category(9), float32(6)\n",
      "memory usage: 1.0 MB\n"
     ]
    }
   ],
   "source": [
    "df.info()"
   ]
  },
  {
   "cell_type": "code",
   "execution_count": null,
   "metadata": {},
   "outputs": [
    {
     "data": {
      "text/plain": [
       "age               False\n",
       "workclass         False\n",
       "fnlwgt            False\n",
       "education         False\n",
       "education-num     False\n",
       "marital-status    False\n",
       "occupation         True\n",
       "relationship      False\n",
       "race              False\n",
       "sex               False\n",
       "capital-gain      False\n",
       "capital-loss      False\n",
       "hours-per-week    False\n",
       "native-country    False\n",
       "salary            False\n",
       "dtype: bool"
      ]
     },
     "execution_count": null,
     "metadata": {},
     "output_type": "execute_result"
    }
   ],
   "source": [
    "df.isna().any()"
   ]
  },
  {
   "cell_type": "code",
   "execution_count": null,
   "metadata": {},
   "outputs": [],
   "source": [
    "df.occupation.cat.add_categories('#na', inplace=True)\n",
    "df['occupation'] = df.occupation.fillna('#na')"
   ]
  },
  {
   "cell_type": "code",
   "execution_count": null,
   "metadata": {},
   "outputs": [],
   "source": [
    "def fillna_cat(df):\n",
    "    pass"
   ]
  },
  {
   "cell_type": "code",
   "execution_count": null,
   "metadata": {},
   "outputs": [],
   "source": [
    "def numericalize_cat_cols(df):\n",
    "    for col in df.columns:\n",
    "        if is_categorical_dtype(df[col]):\n",
    "            df[col] = df[col].cat.codes"
   ]
  },
  {
   "cell_type": "code",
   "execution_count": null,
   "metadata": {},
   "outputs": [],
   "source": [
    "numericalize_cat_cols(df)"
   ]
  },
  {
   "cell_type": "code",
   "execution_count": null,
   "metadata": {},
   "outputs": [
    {
     "data": {
      "text/html": [
       "<div>\n",
       "<style scoped>\n",
       "    .dataframe tbody tr th:only-of-type {\n",
       "        vertical-align: middle;\n",
       "    }\n",
       "\n",
       "    .dataframe tbody tr th {\n",
       "        vertical-align: top;\n",
       "    }\n",
       "\n",
       "    .dataframe thead th {\n",
       "        text-align: right;\n",
       "    }\n",
       "</style>\n",
       "<table border=\"1\" class=\"dataframe\">\n",
       "  <thead>\n",
       "    <tr style=\"text-align: right;\">\n",
       "      <th></th>\n",
       "      <th>age</th>\n",
       "      <th>workclass</th>\n",
       "      <th>fnlwgt</th>\n",
       "      <th>education</th>\n",
       "      <th>education-num</th>\n",
       "      <th>marital-status</th>\n",
       "      <th>occupation</th>\n",
       "      <th>relationship</th>\n",
       "      <th>race</th>\n",
       "      <th>sex</th>\n",
       "      <th>capital-gain</th>\n",
       "      <th>capital-loss</th>\n",
       "      <th>hours-per-week</th>\n",
       "      <th>native-country</th>\n",
       "      <th>salary</th>\n",
       "    </tr>\n",
       "  </thead>\n",
       "  <tbody>\n",
       "    <tr>\n",
       "      <th>0</th>\n",
       "      <td>0.763785</td>\n",
       "      <td>4</td>\n",
       "      <td>-0.838071</td>\n",
       "      <td>7</td>\n",
       "      <td>0.746028</td>\n",
       "      <td>2</td>\n",
       "      <td>15</td>\n",
       "      <td>5</td>\n",
       "      <td>4</td>\n",
       "      <td>0</td>\n",
       "      <td>-0.145918</td>\n",
       "      <td>4.503413</td>\n",
       "      <td>-0.035429</td>\n",
       "      <td>39</td>\n",
       "      <td>1</td>\n",
       "    </tr>\n",
       "    <tr>\n",
       "      <th>1</th>\n",
       "      <td>0.397227</td>\n",
       "      <td>4</td>\n",
       "      <td>0.444980</td>\n",
       "      <td>12</td>\n",
       "      <td>1.523415</td>\n",
       "      <td>0</td>\n",
       "      <td>4</td>\n",
       "      <td>1</td>\n",
       "      <td>4</td>\n",
       "      <td>1</td>\n",
       "      <td>1.278535</td>\n",
       "      <td>-0.216656</td>\n",
       "      <td>0.369514</td>\n",
       "      <td>39</td>\n",
       "      <td>1</td>\n",
       "    </tr>\n",
       "    <tr>\n",
       "      <th>2</th>\n",
       "      <td>-0.042641</td>\n",
       "      <td>4</td>\n",
       "      <td>-0.886721</td>\n",
       "      <td>11</td>\n",
       "      <td>-0.420053</td>\n",
       "      <td>0</td>\n",
       "      <td>15</td>\n",
       "      <td>4</td>\n",
       "      <td>2</td>\n",
       "      <td>0</td>\n",
       "      <td>-0.145918</td>\n",
       "      <td>-0.216656</td>\n",
       "      <td>-0.683337</td>\n",
       "      <td>39</td>\n",
       "      <td>0</td>\n",
       "    </tr>\n",
       "    <tr>\n",
       "      <th>3</th>\n",
       "      <td>-0.042641</td>\n",
       "      <td>5</td>\n",
       "      <td>-0.728862</td>\n",
       "      <td>14</td>\n",
       "      <td>1.912109</td>\n",
       "      <td>2</td>\n",
       "      <td>10</td>\n",
       "      <td>0</td>\n",
       "      <td>1</td>\n",
       "      <td>1</td>\n",
       "      <td>-0.145918</td>\n",
       "      <td>-0.216656</td>\n",
       "      <td>-0.035429</td>\n",
       "      <td>39</td>\n",
       "      <td>1</td>\n",
       "    </tr>\n",
       "    <tr>\n",
       "      <th>4</th>\n",
       "      <td>0.250604</td>\n",
       "      <td>6</td>\n",
       "      <td>-1.018298</td>\n",
       "      <td>5</td>\n",
       "      <td>-2.363521</td>\n",
       "      <td>2</td>\n",
       "      <td>8</td>\n",
       "      <td>5</td>\n",
       "      <td>2</td>\n",
       "      <td>0</td>\n",
       "      <td>-0.145918</td>\n",
       "      <td>-0.216656</td>\n",
       "      <td>0.774456</td>\n",
       "      <td>39</td>\n",
       "      <td>0</td>\n",
       "    </tr>\n",
       "  </tbody>\n",
       "</table>\n",
       "</div>"
      ],
      "text/plain": [
       "        age  workclass    fnlwgt  education  education-num  marital-status  \\\n",
       "0  0.763785          4 -0.838071          7       0.746028               2   \n",
       "1  0.397227          4  0.444980         12       1.523415               0   \n",
       "2 -0.042641          4 -0.886721         11      -0.420053               0   \n",
       "3 -0.042641          5 -0.728862         14       1.912109               2   \n",
       "4  0.250604          6 -1.018298          5      -2.363521               2   \n",
       "\n",
       "   occupation  relationship  race  sex  capital-gain  capital-loss  \\\n",
       "0          15             5     4    0     -0.145918      4.503413   \n",
       "1           4             1     4    1      1.278535     -0.216656   \n",
       "2          15             4     2    0     -0.145918     -0.216656   \n",
       "3          10             0     1    1     -0.145918     -0.216656   \n",
       "4           8             5     2    0     -0.145918     -0.216656   \n",
       "\n",
       "   hours-per-week  native-country  salary  \n",
       "0       -0.035429              39       1  \n",
       "1        0.369514              39       1  \n",
       "2       -0.683337              39       0  \n",
       "3       -0.035429              39       1  \n",
       "4        0.774456              39       0  "
      ]
     },
     "execution_count": null,
     "metadata": {},
     "output_type": "execute_result"
    }
   ],
   "source": [
    "df.head(5)"
   ]
  },
  {
   "cell_type": "code",
   "execution_count": null,
   "metadata": {},
   "outputs": [],
   "source": [
    "dep_var = 'salary'\n",
    "cont, cat = cont_cat_split(df, dep_var)"
   ]
  },
  {
   "cell_type": "code",
   "execution_count": null,
   "metadata": {},
   "outputs": [
    {
     "data": {
      "text/plain": [
       "(['age',\n",
       "  'fnlwgt',\n",
       "  'education-num',\n",
       "  'capital-gain',\n",
       "  'capital-loss',\n",
       "  'hours-per-week'],\n",
       " ['workclass',\n",
       "  'education',\n",
       "  'marital-status',\n",
       "  'occupation',\n",
       "  'relationship',\n",
       "  'race',\n",
       "  'sex',\n",
       "  'native-country'])"
      ]
     },
     "execution_count": null,
     "metadata": {},
     "output_type": "execute_result"
    }
   ],
   "source": [
    "cont, cat"
   ]
  },
  {
   "cell_type": "code",
   "execution_count": null,
   "metadata": {},
   "outputs": [],
   "source": [
    "train_ds, valid_ds = get_dsets(df, cat, cont, [dep_var])"
   ]
  },
  {
   "cell_type": "code",
   "execution_count": null,
   "metadata": {},
   "outputs": [
    {
     "data": {
      "text/plain": [
       "(array([ 4,  9,  4, 12,  1,  4,  1, 39]),\n",
       " array([ 0.25060445,  1.3512332 ,  1.1347214 , -0.14591825, -0.2166562 ,\n",
       "        -0.0354289 ], dtype=float32),\n",
       " array([0.], dtype=float32))"
      ]
     },
     "execution_count": null,
     "metadata": {},
     "output_type": "execute_result"
    }
   ],
   "source": [
    "train_ds[0]"
   ]
  },
  {
   "cell_type": "code",
   "execution_count": null,
   "metadata": {},
   "outputs": [
    {
     "data": {
      "text/plain": [
       "dtype('int32')"
      ]
     },
     "execution_count": null,
     "metadata": {},
     "output_type": "execute_result"
    }
   ],
   "source": [
    "_[0].dtype"
   ]
  },
  {
   "cell_type": "code",
   "execution_count": null,
   "metadata": {},
   "outputs": [],
   "source": [
    "from nn4tab.data import get_dl"
   ]
  },
  {
   "cell_type": "code",
   "execution_count": null,
   "metadata": {},
   "outputs": [],
   "source": [
    "train_dl = get_dl(train_ds)\n",
    "valid_dl = get_dl(valid_ds, train=False)"
   ]
  },
  {
   "cell_type": "code",
   "execution_count": null,
   "metadata": {},
   "outputs": [
    {
     "data": {
      "text/plain": [
       "(torch.Size([512, 8]), torch.Size([512, 6]), torch.Size([512, 1]))"
      ]
     },
     "execution_count": null,
     "metadata": {},
     "output_type": "execute_result"
    }
   ],
   "source": [
    "x_cat, x_cont, y = next(iter(train_dl))\n",
    "\n",
    "x_cat.shape, x_cont.shape, y.shape"
   ]
  },
  {
   "cell_type": "markdown",
   "metadata": {},
   "source": [
    "# Model"
   ]
  },
  {
   "cell_type": "code",
   "execution_count": null,
   "metadata": {},
   "outputs": [],
   "source": [
    "from nn4tab.model import TabularModel, get_tabular_model"
   ]
  },
  {
   "cell_type": "code",
   "execution_count": null,
   "metadata": {},
   "outputs": [],
   "source": [
    "# emb_sz = emb_sizes(df, cat)"
   ]
  },
  {
   "cell_type": "code",
   "execution_count": null,
   "metadata": {},
   "outputs": [],
   "source": [
    "# model = TabularModel([100, 50], emb_sz, len(cont), 1, emb_drop=0.1, drops=[0.1,0.2])\n",
    "# model"
   ]
  },
  {
   "cell_type": "code",
   "execution_count": null,
   "metadata": {},
   "outputs": [],
   "source": [
    "model = get_tabular_model(df, cont, cat, 1, [100, 50])"
   ]
  },
  {
   "cell_type": "code",
   "execution_count": null,
   "metadata": {},
   "outputs": [],
   "source": [
    "x_cat = x_cat.type(torch.long)"
   ]
  },
  {
   "cell_type": "code",
   "execution_count": null,
   "metadata": {},
   "outputs": [],
   "source": [
    "pred = model(x_cat, x_cont)"
   ]
  },
  {
   "cell_type": "code",
   "execution_count": null,
   "metadata": {},
   "outputs": [
    {
     "data": {
      "text/plain": [
       "torch.Size([512, 1])"
      ]
     },
     "execution_count": null,
     "metadata": {},
     "output_type": "execute_result"
    }
   ],
   "source": [
    "pred.shape"
   ]
  },
  {
   "cell_type": "code",
   "execution_count": null,
   "metadata": {},
   "outputs": [
    {
     "data": {
      "text/plain": [
       "tensor(0.7668, grad_fn=<BinaryCrossEntropyWithLogitsBackward>)"
      ]
     },
     "execution_count": null,
     "metadata": {},
     "output_type": "execute_result"
    }
   ],
   "source": [
    "nn.BCEWithLogitsLoss()(pred, y)"
   ]
  },
  {
   "cell_type": "code",
   "execution_count": null,
   "metadata": {},
   "outputs": [],
   "source": []
  },
  {
   "cell_type": "markdown",
   "metadata": {},
   "source": [
    "# Training"
   ]
  },
  {
   "cell_type": "markdown",
   "metadata": {},
   "source": [
    "## todo"
   ]
  },
  {
   "cell_type": "code",
   "execution_count": null,
   "metadata": {},
   "outputs": [],
   "source": []
  },
  {
   "cell_type": "code",
   "execution_count": null,
   "metadata": {},
   "outputs": [],
   "source": [
    "for idx, m in enumerate(model.named_modules()):\n",
    "        print(idx, '->', m)"
   ]
  },
  {
   "cell_type": "code",
   "execution_count": null,
   "metadata": {},
   "outputs": [],
   "source": [
    "do_wd = []\n",
    "no_wd = []"
   ]
  },
  {
   "cell_type": "code",
   "execution_count": null,
   "metadata": {},
   "outputs": [],
   "source": [
    "for i, m in enumerate(model.modules()):\n",
    "    print(i)"
   ]
  },
  {
   "cell_type": "code",
   "execution_count": null,
   "metadata": {},
   "outputs": [],
   "source": [
    "for m in model.modules():\n",
    "    if isinstance(m, nn.BatchNorm1d):\n",
    "        no_wd += [p for p in m.parameters() if p.requires_grad]\n",
    "    else:\n",
    "        do_wd += [p for n, p in m.named_parameters() if ]"
   ]
  },
  {
   "cell_type": "code",
   "execution_count": null,
   "metadata": {},
   "outputs": [],
   "source": [
    "no_wd"
   ]
  },
  {
   "cell_type": "code",
   "execution_count": null,
   "metadata": {},
   "outputs": [],
   "source": [
    "def get_param_groups(model):\n",
    "    pass"
   ]
  },
  {
   "cell_type": "code",
   "execution_count": null,
   "metadata": {},
   "outputs": [],
   "source": [
    "def weight_decay(p, wd):\n",
    "    if wd!=0: p.data.mul_(1 - lr*wd)"
   ]
  },
  {
   "cell_type": "markdown",
   "metadata": {},
   "source": [
    "## Setup"
   ]
  },
  {
   "cell_type": "code",
   "execution_count": null,
   "metadata": {},
   "outputs": [],
   "source": [
    "device = 'cpu'#torch.cuda.current_device()\n",
    "epochs = 2"
   ]
  },
  {
   "cell_type": "code",
   "execution_count": null,
   "metadata": {},
   "outputs": [],
   "source": [
    "loss_func = nn.BCEWithLogitsLoss()\n",
    "opt_func = torch.optim.Adam"
   ]
  },
  {
   "cell_type": "code",
   "execution_count": null,
   "metadata": {},
   "outputs": [],
   "source": [
    "optimizer = opt_func([p for p in model.parameters() if p.requires_grad])"
   ]
  },
  {
   "cell_type": "code",
   "execution_count": null,
   "metadata": {},
   "outputs": [],
   "source": []
  },
  {
   "cell_type": "markdown",
   "metadata": {},
   "source": [
    "## Training loop"
   ]
  },
  {
   "cell_type": "code",
   "execution_count": null,
   "metadata": {},
   "outputs": [],
   "source": [
    "class AverageMeter:\n",
    "    def __init__(self, store_vals=False, store_avgs=False):\n",
    "        self.store_vals = store_vals\n",
    "        if store_vals: self.values = []\n",
    "        if store_avgs: self.avgs = []\n",
    "        self.reset()\n",
    "        \n",
    "    def update(self, v):\n",
    "        if self.store_vals: self.values.append(v)\n",
    "        self.n += 1\n",
    "        self.sum += v\n",
    "        self.avg = self.sum/self.n\n",
    "        \n",
    "    def reset(self):\n",
    "        if self.store_avgs and self.avg: self.avgs.append(self.avg)\n",
    "        self.sum, self.n, self.avg = 0, 0, None"
   ]
  },
  {
   "cell_type": "code",
   "execution_count": null,
   "metadata": {},
   "outputs": [],
   "source": [
    "def accuracy_binary(pred, targ):\n",
    "    return ((pred>0).float() == targ).float().mean()"
   ]
  },
  {
   "cell_type": "code",
   "execution_count": null,
   "metadata": {},
   "outputs": [
    {
     "name": "stderr",
     "output_type": "stream",
     "text": [
      "epoch 1: train loss 0.3236: 100%|██████████████████████████████████████| 50/50 [01:02<00:00,  1.25s/it]\n",
      "epoch 1: valid loss 0.3234, accuracy 0.8532: 100%|█████████████████████| 12/12 [00:11<00:00,  1.05it/s]\n",
      "epoch 2: train loss 0.3123: 100%|██████████████████████████████████████| 50/50 [01:02<00:00,  1.25s/it]\n",
      "epoch 2: valid loss 0.3202, accuracy 0.8543: 100%|█████████████████████| 12/12 [00:11<00:00,  1.06it/s]\n"
     ]
    }
   ],
   "source": [
    "for e in range(epochs):\n",
    "    \n",
    "    model.to(device)\n",
    "    \n",
    "    train_losses = AverageMeter(True)\n",
    "    model.train()\n",
    "    pbar = tqdm(train_dl)\n",
    "    for x_cat, x_cont, y in pbar:\n",
    "        x_cat = x_cat.to(device, dtype=torch.long)\n",
    "        x_cont = x_cont.to(device)\n",
    "        y = y.to(device)\n",
    "        \n",
    "        pred = model(x_cat, x_cont)\n",
    "        loss = loss_func(pred, y)\n",
    "        \n",
    "        optimizer.zero_grad()\n",
    "        loss.backward()\n",
    "        #torch.nn.utils.clip_grad_norm_(model.parameters(), grad_norm_clip)\n",
    "        optimizer.step()\n",
    "        \n",
    "        train_losses.update(loss.item())\n",
    "        pbar.set_description(f'epoch {e+1}: train loss {train_losses.avg:.4f}')\n",
    "    \n",
    "    \n",
    "    valid_losses = AverageMeter(True)\n",
    "    accs = AverageMeter()\n",
    "    model.eval()\n",
    "    pbar = tqdm(valid_dl)\n",
    "    for x_cat, x_cont, y in pbar:\n",
    "        x_cat = x_cat.to(device, dtype=torch.long)\n",
    "        x_cont = x_cont.to(device)\n",
    "        y = y.to(device)\n",
    "        \n",
    "        with torch.no_grad():\n",
    "            pred = model(x_cat, x_cont)\n",
    "            loss = loss_func(pred, y)\n",
    "            \n",
    "        valid_losses.update(loss.item())\n",
    "        accs.update(accuracy_binary(pred, y).item())\n",
    "        pbar.set_description(f'epoch {e+1}: valid loss {valid_losses.avg:.4f}, accuracy {accs.avg :.4f}')"
   ]
  },
  {
   "cell_type": "markdown",
   "metadata": {},
   "source": [
    "## Learner"
   ]
  },
  {
   "cell_type": "code",
   "execution_count": null,
   "metadata": {},
   "outputs": [
    {
     "name": "stdout",
     "output_type": "stream",
     "text": [
      "Variable                 Type              Data/Info\n",
      "----------------------------------------------------\n",
      "AverageMeter             type              <class '__main__.AverageMeter'>\n",
      "AveregeMeter             type              <class '__main__.AveregeMeter'>\n",
      "DataLoader               type              <class 'torch.utils.data.dataloader.DataLoader'>\n",
      "TabularDataset           type              <class 'nn4tab.data.TabularDataset'>\n",
      "TabularModel             type              <class 'nn4tab.model.TabularModel'>\n",
      "acc                      float             0.84375\n",
      "accs                     AverageMeter      <__main__.AverageMeter ob<...>ct at 0x000002117D864C70>\n",
      "accuracy_binary          function          <function accuracy_binary at 0x0000021160B40310>\n",
      "cat                      list              n=8\n",
      "categorify               function          <function categorify at 0x00000211609A9B80>\n",
      "cont                     list              n=6\n",
      "cont_cat_split           function          <function cont_cat_split at 0x000002115DAAC160>\n",
      "dep_var                  str               salary\n",
      "df                       DataFrame                     age  workclas<...>[32561 rows x 15 columns]\n",
      "fillna_cat               function          <function fillna_cat at 0x0000021159235EE0>\n",
      "gc                       module            <module 'gc' (built-in)>\n",
      "get_dl                   function          <function get_dl at 0x00000211609A9670>\n",
      "get_dsets                function          <function get_dsets at 0x0000021160892B80>\n",
      "get_tabular_model        function          <function get_tabular_mod<...>el at 0x00000211609E3B80>\n",
      "is_categorical_dtype     function          <function is_categorical_<...>pe at 0x000002115A96B5E0>\n",
      "is_numeric_dtype         function          <function is_numeric_dtype at 0x000002115A96BE50>\n",
      "loss                     Tensor            tensor(0.3099)\n",
      "model                    TabularModel      TabularModel(\\n  (stem): <...>)\\n      )\\n    )\\n  )\\n)\n",
      "nn                       module            <module 'torch.nn' from '<...>\\torch\\\\nn\\\\__init__.py'>\n",
      "normalize_numeric_cols   function          <function normalize_numer<...>ls at 0x0000021159235E50>\n",
      "np                       module            <module 'numpy' from 'C:\\<...>ges\\\\numpy\\\\__init__.py'>\n",
      "numericalize_cat_cols    function          <function numericalize_ca<...>ls at 0x0000021159197670>\n",
      "pd                       module            <module 'pandas' from 'C:<...>es\\\\pandas\\\\__init__.py'>\n",
      "pred                     Tensor            tensor([[-3.2005e+00],\\n <...>\\n        [-4.7059e+00]])\n",
      "torch                    module            <module 'torch' from 'C:\\<...>ges\\\\torch\\\\__init__.py'>\n",
      "tqdm                     type              <class 'tqdm.std.tqdm'>\n",
      "train_ds                 TabularDataset    <nn4tab.data.TabularDatas<...>ct at 0x0000021159278070>\n",
      "train_losses             AverageMeter      <__main__.AverageMeter ob<...>ct at 0x0000021160A6F880>\n",
      "valid_ds                 TabularDataset    <nn4tab.data.TabularDatas<...>ct at 0x0000021159242CA0>\n",
      "valid_losses             AverageMeter      <__main__.AverageMeter ob<...>ct at 0x000002117E50DE50>\n"
     ]
    }
   ],
   "source": [
    "%whos"
   ]
  },
  {
   "cell_type": "code",
   "execution_count": null,
   "metadata": {},
   "outputs": [
    {
     "data": {
      "text/plain": [
       "149"
      ]
     },
     "execution_count": null,
     "metadata": {},
     "output_type": "execute_result"
    }
   ],
   "source": [
    "del loss_func, optimizer, train_dl, valid_dl, pbar, os, x_cat, x_cont, y, opt_func, epochs, e, device\n",
    "gc.collect()"
   ]
  },
  {
   "cell_type": "code",
   "execution_count": null,
   "metadata": {},
   "outputs": [],
   "source": [
    "class Learner:\n",
    "    \n",
    "    def __init__(self, model, dataloaders, opt_func, loss_func, metrics=None, use_gpu=True, savepath='./models'):\n",
    "        \n",
    "        self.device = 'cuda' if (torch.cuda.is_available() and use_gpu) else 'cpu'\n",
    "        self.model = model.to(self.device)\n",
    "        \n",
    "        self.train_dl = dataloaders[0]\n",
    "        self.valid_dl = dataloaders[1]\n",
    "        self.test_dl = dataloaders[2] if len(dataloaders)>2 else None\n",
    "        \n",
    "        self.opt_func = opt_func\n",
    "        self.loss_func = loss_func\n",
    "        self.metrics = metrics\n",
    "        \n",
    "        self.train_losses = AverageMeter(store_vals=True)\n",
    "        self.valid_losses = AverageMeter(store_avgs=True)\n",
    "        self.accs = AverageMeter()\n",
    "#         self.optimizer = opt_func([p for p in self.model.parameters() if p.requires_grad])\n",
    "        \n",
    "        self.savepath = Path(savepath)\n",
    "        self.training = True\n",
    "        self.epoch = -1\n",
    "        \n",
    "    def fit(self, epochs, lr=1e-2):\n",
    "        self.optimizer = self.opt_func([p for p in self.model.parameters() if p.requires_grad], lr)\n",
    "        for e in range(epochs):\n",
    "            self.epoch += 1\n",
    "            train_loss = self.train()\n",
    "            \n",
    "            valid_loss, acc = self.validate()\n",
    "            \n",
    "#             print('Train loss = {:f}; valid loss = {:f}; {} = {:f}'.\\\n",
    "#                   format(train_loss, valid_loss, self.metrics.__name__, acc))\n",
    "            self.save_model()\n",
    "        \n",
    "    \n",
    "    def train(self):\n",
    "        \n",
    "        self.train_losses.reset()\n",
    "        self.model.train()\n",
    "        pbar = tqdm(self.train_dl)\n",
    "        for x_cat, x_cont, y in pbar:\n",
    "            x_cat = x_cat.to(self.device, dtype=torch.long)\n",
    "            x_cont = x_cont.to(self.device)\n",
    "            y = y.to(self.device)\n",
    "\n",
    "            self.optimizer.zero_grad()\n",
    "            pred = self.model(x_cat, x_cont)\n",
    "            loss = self.loss_func(pred, y)\n",
    "\n",
    "            loss.backward()\n",
    "            #torch.nn.utils.clip_grad_norm_(model.parameters(), grad_norm_clip)\n",
    "            self.optimizer.step()\n",
    "\n",
    "            self.train_losses.update(loss.item())\n",
    "            pbar.set_description(f'epoch {self.epoch+1}: train loss {train_losses.avg:.4f}')\n",
    "        return self.train_losses.avg\n",
    "    \n",
    "    def validate(self):\n",
    "        \n",
    "        self.valid_losses.reset()\n",
    "        self.accs.reset()\n",
    "        self.model.eval()\n",
    "        pbar = tqdm(self.valid_dl)\n",
    "        for x_cat, x_cont, y in pbar:\n",
    "            x_cat = x_cat.to(self.device, dtype=torch.long)\n",
    "            x_cont = x_cont.to(self.device)\n",
    "            y = y.to(self.device)\n",
    "\n",
    "            with torch.no_grad():\n",
    "                pred = self.model(x_cat, x_cont)\n",
    "                loss = self.loss_func(pred, y)\n",
    "\n",
    "            self.valid_losses.update(loss.item())\n",
    "            self.accs.update(accuracy_binary(pred, y).item())\n",
    "            pbar.set_description(f'epoch {self.epoch+1}: valid loss {self.valid_losses.avg:.4f}, accuracy {self.accs.avg :.4f}')\n",
    "        \n",
    "        return self.valid_losses.avg, self.accs.avg\n",
    "    \n",
    "    def save_model(self, fn='chkpt_', path=None):\n",
    "        if not path: path = self.savepath\n",
    "        fn += str(self.epoch) + '.pt'\n",
    "        torch.save(self.model.state_dict(), path/fn)\n",
    "    \n",
    "    def load_model(self, fn, path=None):\n",
    "        pass"
   ]
  },
  {
   "cell_type": "code",
   "execution_count": null,
   "metadata": {},
   "outputs": [
    {
     "data": {
      "text/plain": [
       "OrderedDict([('stem.bn.weight',\n",
       "              tensor([1.2933, 0.9520, 1.1492, 1.3648, 1.0108, 1.1729])),\n",
       "             ('stem.bn.bias',\n",
       "              tensor([-0.0004,  0.0002, -0.0028,  0.0023, -0.0012,  0.0005])),\n",
       "             ('stem.bn.running_mean',\n",
       "              tensor([-0.0081, -0.0014,  0.0031, -0.0076, -0.0042,  0.0095])),\n",
       "             ('stem.bn.running_var',\n",
       "              tensor([0.9876, 0.9588, 1.0003, 0.8907, 0.9780, 0.9599])),\n",
       "             ('stem.bn.num_batches_tracked', tensor(100)),\n",
       "             ('stem.embs.0.weight',\n",
       "              tensor([[-0.0315, -0.0323,  0.0898, -0.0650,  0.0467],\n",
       "                      [-0.1585, -0.0946,  0.0151,  0.0680,  0.0095],\n",
       "                      [ 0.0566, -0.1400,  0.0548, -0.0608, -0.0600],\n",
       "                      [-0.0569,  0.0403, -0.0412, -0.0533,  0.0632],\n",
       "                      [ 0.0180, -0.0012, -0.0648,  0.0296,  0.0592],\n",
       "                      [-0.0684, -0.0386, -0.0564,  0.0944, -0.0779],\n",
       "                      [ 0.1399,  0.1246, -0.0662, -0.1397, -0.0903],\n",
       "                      [-0.0350, -0.0128,  0.1455, -0.0805,  0.0021],\n",
       "                      [ 0.1650,  0.1317, -0.0144, -0.1128,  0.0994]])),\n",
       "             ('stem.embs.1.weight',\n",
       "              tensor([[ 0.1409,  0.0135,  0.0211,  0.0713,  0.0349, -0.0013,  0.0213, -0.2164],\n",
       "                      [-0.2509, -0.0680, -0.0018,  0.0854,  0.0960, -0.0983,  0.1279,  0.0967],\n",
       "                      [-0.0264, -0.0217,  0.0214,  0.0779,  0.0637, -0.1594, -0.1081, -0.0065],\n",
       "                      [ 0.0727,  0.1443, -0.0492,  0.1075,  0.0837,  0.1426,  0.0733, -0.0999],\n",
       "                      [ 0.0406, -0.0454, -0.0542,  0.0565,  0.0267, -0.0438,  0.0556,  0.0337],\n",
       "                      [ 0.0571, -0.1147,  0.0020, -0.0142,  0.0788, -0.0231,  0.0977, -0.0383],\n",
       "                      [ 0.0558, -0.0508, -0.0437,  0.0701,  0.0956,  0.0218,  0.1626,  0.0469],\n",
       "                      [ 0.0120,  0.0241,  0.0481,  0.0038, -0.0470, -0.0760, -0.0843,  0.1180],\n",
       "                      [-0.0254,  0.0604, -0.1197, -0.0715,  0.0759, -0.0180, -0.0856,  0.0317],\n",
       "                      [ 0.0029,  0.0218, -0.0393, -0.0385,  0.0033,  0.0288, -0.0286, -0.0515],\n",
       "                      [-0.0543,  0.0816, -0.0273, -0.1390, -0.0967,  0.1122,  0.0372,  0.0582],\n",
       "                      [-0.0254, -0.0876,  0.0894, -0.0563,  0.0429, -0.0814, -0.0710,  0.0522],\n",
       "                      [-0.0651,  0.0626,  0.0419, -0.0847, -0.0322,  0.0737, -0.0004, -0.0445],\n",
       "                      [ 0.0830, -0.0560, -0.0724,  0.0772,  0.0810,  0.0959,  0.1034, -0.0790],\n",
       "                      [-0.1226,  0.1128, -0.0348, -0.0777, -0.0629,  0.0868,  0.0190, -0.0576],\n",
       "                      [ 0.0429,  0.0203, -0.0735,  0.0771, -0.1076, -0.0452, -0.0714,  0.0795]])),\n",
       "             ('stem.embs.2.weight',\n",
       "              tensor([[-0.0512, -0.0838, -0.0901,  0.0051, -0.0770],\n",
       "                      [ 0.0422,  0.0257,  0.0683, -0.0014,  0.1596],\n",
       "                      [-0.0200,  0.0811,  0.0095, -0.0937,  0.0328],\n",
       "                      [ 0.0264, -0.1039,  0.0255,  0.0703,  0.1186],\n",
       "                      [ 0.1114, -0.0611,  0.0387,  0.1037, -0.0243],\n",
       "                      [ 0.0316, -0.0104, -0.1565,  0.0543,  0.0499],\n",
       "                      [-0.0087, -0.0655,  0.0128,  0.0187, -0.0010]])),\n",
       "             ('stem.embs.3.weight',\n",
       "              tensor([[-0.0740, -0.0159, -0.0424, -0.0571,  0.0772,  0.0533, -0.0419, -0.0114],\n",
       "                      [ 0.0079, -0.0181,  0.0279, -0.0015, -0.0654,  0.0969, -0.0149, -0.0435],\n",
       "                      [-0.0680,  0.0448, -0.0706, -0.0784,  0.0746,  0.0824, -0.0481, -0.0376],\n",
       "                      [ 0.0723, -0.1094,  0.0520, -0.0333, -0.0130, -0.0892, -0.0215,  0.0310],\n",
       "                      [ 0.0591,  0.1160,  0.1415,  0.0288, -0.0999,  0.0576,  0.1017,  0.0092],\n",
       "                      [ 0.0883, -0.0056, -0.0973, -0.1967,  0.1715,  0.1103, -0.1190, -0.0560],\n",
       "                      [ 0.0255, -0.0491, -0.0682, -0.1616,  0.0928,  0.0425, -0.0519,  0.0525],\n",
       "                      [ 0.0444, -0.0040, -0.0259, -0.0348,  0.0221, -0.0056, -0.0566,  0.0017],\n",
       "                      [-0.1063,  0.0663, -0.1252, -0.0616,  0.1265,  0.0842, -0.1661,  0.0703],\n",
       "                      [-0.0925,  0.0740, -0.0380, -0.0245,  0.1145, -0.1174, -0.0667, -0.0416],\n",
       "                      [ 0.1018, -0.0423,  0.0591,  0.1381, -0.0366, -0.0078,  0.0705,  0.0973],\n",
       "                      [-0.0522, -0.0208, -0.1125,  0.1774,  0.0095, -0.0934,  0.0612, -0.2025],\n",
       "                      [ 0.0241,  0.0780,  0.0412,  0.0833, -0.0287, -0.0678,  0.0371, -0.0464],\n",
       "                      [-0.0962, -0.0589,  0.0535,  0.0588, -0.0801, -0.0695,  0.1702, -0.0481],\n",
       "                      [ 0.0350,  0.0126,  0.0567, -0.0562,  0.0091, -0.0184, -0.0411, -0.0066],\n",
       "                      [-0.0298,  0.0248,  0.0375,  0.0373,  0.0442,  0.0216, -0.0443, -0.0880]])),\n",
       "             ('stem.embs.4.weight',\n",
       "              tensor([[-0.0491, -0.0552,  0.1025,  0.0434],\n",
       "                      [ 0.0189,  0.0542, -0.0302, -0.0516],\n",
       "                      [ 0.0449, -0.0245, -0.1098, -0.0174],\n",
       "                      [ 0.0946,  0.0629, -0.0637, -0.0951],\n",
       "                      [ 0.0514,  0.0668, -0.0706,  0.0072],\n",
       "                      [-0.0951, -0.2050,  0.1326,  0.1978]])),\n",
       "             ('stem.embs.5.weight',\n",
       "              tensor([[-0.0084, -0.0653, -0.0538, -0.0547],\n",
       "                      [ 0.0054,  0.0346, -0.0044, -0.1051],\n",
       "                      [ 0.0569,  0.0640, -0.0040,  0.1520],\n",
       "                      [ 0.1228,  0.0924,  0.1014,  0.0076],\n",
       "                      [-0.0690, -0.0559,  0.0711, -0.0100]])),\n",
       "             ('stem.embs.6.weight',\n",
       "              tensor([[ 0.0976,  0.0579],\n",
       "                      [-0.0561, -0.0600]])),\n",
       "             ('stem.embs.7.weight',\n",
       "              tensor([[ 6.4111e-02,  3.2338e-02,  7.6853e-02,  5.1743e-02, -1.9188e-01,\n",
       "                       -5.4419e-02,  8.2327e-02,  1.1789e-01, -1.2051e-01,  1.2138e-01,\n",
       "                       -9.6328e-02, -4.5543e-02,  1.1133e-01],\n",
       "                      [-6.9446e-02, -9.3568e-02, -1.7043e-02, -9.0870e-02, -6.8022e-02,\n",
       "                       -2.6404e-02, -5.2564e-02, -6.9676e-02, -5.7987e-04, -9.5915e-02,\n",
       "                       -7.5828e-02,  5.6215e-02,  5.0819e-02],\n",
       "                      [ 3.7783e-02,  5.9638e-02, -6.6380e-02,  3.6759e-02, -1.1917e-01,\n",
       "                        6.5473e-02, -1.8658e-02, -3.6781e-03,  8.3355e-02, -1.2934e-01,\n",
       "                        1.1955e-01, -7.7700e-02, -1.2905e-01],\n",
       "                      [ 3.8307e-02, -1.2054e-01,  7.4975e-02, -1.1620e-02, -3.2515e-02,\n",
       "                       -8.1736e-02,  2.4872e-02,  1.3527e-01, -4.1595e-02, -4.1800e-02,\n",
       "                       -3.3304e-02, -6.5828e-02,  5.5054e-02],\n",
       "                      [ 1.7293e-01, -8.6524e-02,  3.1228e-02,  4.9237e-02,  5.9721e-03,\n",
       "                        6.9877e-02,  7.3191e-02, -9.3688e-03,  8.9867e-02,  1.4140e-01,\n",
       "                        3.3917e-02,  3.1511e-02, -1.9648e-02],\n",
       "                      [-4.0040e-02,  5.9190e-02,  1.9247e-02, -3.4798e-02, -1.3019e-01,\n",
       "                       -7.1382e-02,  1.6947e-01,  9.5905e-05, -9.0632e-02, -1.1046e-02,\n",
       "                        2.6846e-02,  2.3457e-02, -9.2086e-04],\n",
       "                      [ 1.2649e-01, -7.8769e-02, -5.8165e-02,  6.8879e-02,  1.0938e-01,\n",
       "                       -6.4070e-02,  7.7280e-02,  2.5593e-01,  8.1309e-02, -1.8870e-02,\n",
       "                        7.9200e-02,  8.6558e-02, -5.3486e-02],\n",
       "                      [ 1.4379e-02, -1.0091e-02, -6.4593e-02, -9.5353e-02,  2.2704e-01,\n",
       "                        6.0052e-02, -8.5151e-02,  5.3264e-02, -3.9520e-02,  6.7732e-02,\n",
       "                        1.5008e-01, -2.9679e-02, -1.4656e-01],\n",
       "                      [ 5.7089e-02,  8.3273e-02, -8.8642e-02,  6.0336e-02,  1.2030e-02,\n",
       "                       -3.1451e-02, -1.5732e-01,  8.6022e-02, -9.7777e-03,  1.9813e-02,\n",
       "                        9.5613e-02, -1.7001e-03, -8.8657e-02],\n",
       "                      [-5.1234e-03, -7.8113e-02, -5.0486e-02, -1.0085e-01, -9.8926e-03,\n",
       "                       -6.2404e-02,  7.0796e-02, -1.5727e-01, -2.0153e-02,  7.3816e-02,\n",
       "                       -1.0970e-03, -6.0985e-02,  6.0220e-02],\n",
       "                      [-5.7880e-02,  7.4437e-02, -1.4977e-02,  2.0016e-02, -1.2487e-01,\n",
       "                        3.7327e-02, -9.5949e-02, -2.5239e-03, -7.8365e-02,  1.6206e-01,\n",
       "                       -9.8983e-02,  1.4706e-01,  6.9769e-02],\n",
       "                      [-4.2145e-02,  9.0878e-02,  6.9264e-02,  1.3050e-01, -5.4310e-02,\n",
       "                        1.2028e-02,  6.5999e-02, -8.9289e-02, -7.2641e-02, -3.8623e-02,\n",
       "                       -1.0505e-01, -6.9156e-02, -3.1762e-02],\n",
       "                      [ 3.3466e-02, -1.1852e-01,  2.4156e-02, -5.6300e-02, -8.1364e-02,\n",
       "                       -6.5207e-02, -1.2598e-01,  9.1892e-02, -3.9734e-02, -3.4932e-03,\n",
       "                        9.9365e-03,  1.2562e-01, -9.0068e-02],\n",
       "                      [ 1.8921e-01,  3.9101e-02, -9.2175e-03,  1.6676e-02, -4.9504e-02,\n",
       "                       -3.9791e-02,  1.5707e-01, -4.6929e-02,  1.9671e-01,  6.0946e-02,\n",
       "                       -4.6665e-02, -2.9876e-02, -9.9735e-02],\n",
       "                      [-1.0299e-01,  2.8489e-03, -1.6590e-01,  4.7514e-02, -6.1775e-02,\n",
       "                        2.5805e-02, -7.5735e-02,  1.6605e-02,  1.3609e-01, -5.9512e-02,\n",
       "                       -1.2507e-01, -3.5438e-02, -1.0380e-01],\n",
       "                      [-1.1283e-03,  1.2249e-02,  1.0117e-02, -1.4351e-02,  4.2426e-03,\n",
       "                       -4.2619e-03, -1.1623e-02,  2.7724e-04, -6.6257e-04, -7.7998e-03,\n",
       "                       -1.4044e-02,  2.2476e-03,  2.4159e-03],\n",
       "                      [-1.7257e-01, -9.5593e-02, -1.2059e-01,  1.3941e-01,  1.3524e-01,\n",
       "                       -1.8333e-01, -3.2703e-02,  1.6578e-01, -2.3901e-01, -5.6686e-03,\n",
       "                        1.2176e-01, -1.1434e-01, -3.8249e-02],\n",
       "                      [ 2.0832e-02,  5.6918e-02,  5.4860e-02,  1.2551e-01,  3.8788e-02,\n",
       "                       -8.0090e-02,  9.4907e-02,  3.2528e-02,  5.1941e-02,  2.9387e-03,\n",
       "                        4.3693e-02, -1.7016e-02,  6.6027e-02],\n",
       "                      [-1.9620e-02,  1.0229e-02,  2.8357e-02, -1.4203e-02, -8.5114e-02,\n",
       "                        6.6751e-02,  3.0246e-02,  5.6288e-03, -7.1857e-02, -8.7328e-02,\n",
       "                        1.0135e-02,  5.9537e-02, -1.1063e-02],\n",
       "                      [-4.2495e-02, -4.2701e-02, -3.4871e-02, -6.6799e-02, -2.3003e-02,\n",
       "                        1.3813e-02,  1.0682e-03,  2.2028e-02,  8.0186e-02, -5.7566e-02,\n",
       "                        1.7721e-02, -1.8862e-02,  9.5843e-03],\n",
       "                      [-5.0666e-02,  9.9228e-02, -9.7604e-02,  3.6431e-02, -4.9141e-02,\n",
       "                        8.5765e-02,  3.6244e-02, -7.9841e-02, -5.1644e-02,  1.4904e-02,\n",
       "                       -5.3907e-02, -4.8219e-02, -4.1252e-02],\n",
       "                      [-3.6355e-03,  9.0283e-02, -1.7648e-02,  3.4412e-02,  4.0220e-02,\n",
       "                       -8.2370e-03, -2.7867e-02, -4.5800e-02, -1.7197e-02,  9.1598e-02,\n",
       "                       -5.6728e-03, -1.0942e-02, -8.9909e-03],\n",
       "                      [-6.3956e-02,  1.2743e-01, -9.0505e-02,  1.7305e-01, -5.6611e-02,\n",
       "                       -6.2139e-02, -1.8120e-02, -1.4763e-01, -9.1449e-02, -6.4924e-02,\n",
       "                       -1.9114e-02,  1.5177e-01, -1.3457e-02],\n",
       "                      [ 2.4541e-03, -5.6578e-02,  6.5146e-02,  4.6969e-03, -1.2307e-02,\n",
       "                        6.7015e-02,  7.7142e-02, -1.7149e-01, -6.9799e-02,  2.5947e-02,\n",
       "                        2.0156e-01,  5.5580e-02,  1.1782e-01],\n",
       "                      [-7.0348e-02,  7.9257e-02, -4.6360e-02, -1.2488e-02,  1.0388e-01,\n",
       "                       -2.2593e-02, -1.1327e-02,  4.1641e-02,  2.6063e-02, -1.8696e-01,\n",
       "                       -1.0464e-01, -3.5889e-02,  2.7860e-02],\n",
       "                      [-3.5686e-02, -2.4428e-01, -1.9165e-02,  5.3524e-02,  5.9785e-02,\n",
       "                        1.1610e-01, -3.7820e-02,  1.3136e-01, -8.2590e-02,  4.6715e-02,\n",
       "                       -7.6926e-02, -1.1936e-02, -5.9398e-02],\n",
       "                      [ 8.8067e-02, -5.7875e-03, -3.8000e-02,  6.1155e-03,  9.9064e-02,\n",
       "                       -1.5228e-02,  2.1147e-01,  8.7534e-02,  7.6820e-02,  5.8535e-03,\n",
       "                        1.6794e-01,  1.1552e-01, -6.1273e-02],\n",
       "                      [ 9.9190e-02,  7.1600e-02,  8.7608e-02,  1.4247e-02,  1.1970e-01,\n",
       "                        8.6244e-02,  9.1375e-02,  7.2158e-02,  3.5487e-02,  8.2131e-02,\n",
       "                        1.0072e-02, -8.3866e-02, -7.7476e-02],\n",
       "                      [ 8.5897e-02, -1.4419e-01,  1.6057e-01, -6.6392e-02,  2.6331e-01,\n",
       "                       -2.2734e-01,  1.6559e-02,  1.3242e-01,  1.8929e-02, -1.2467e-01,\n",
       "                        3.2821e-02,  3.7036e-02, -2.6874e-01],\n",
       "                      [ 1.5238e-01,  4.9955e-02, -1.4106e-01, -7.3275e-02, -7.3019e-02,\n",
       "                       -9.7828e-02,  9.2083e-02,  1.3221e-01, -9.4659e-03,  7.3490e-02,\n",
       "                        5.1162e-02,  4.6272e-02, -5.7278e-02],\n",
       "                      [-4.3525e-02,  5.5493e-02, -2.8722e-02, -5.0519e-02, -8.8295e-02,\n",
       "                        1.1965e-02,  5.9268e-02, -7.6977e-02,  1.7305e-02,  3.9039e-02,\n",
       "                       -9.2835e-02, -7.3185e-02,  6.6744e-02],\n",
       "                      [-1.3638e-01, -5.0138e-02,  3.0990e-02,  7.1726e-02, -9.4771e-02,\n",
       "                        2.4038e-02, -5.4961e-02, -9.9104e-02,  1.0898e-01, -5.8022e-02,\n",
       "                       -7.0605e-03, -8.0887e-02,  7.7782e-02],\n",
       "                      [ 5.3400e-02, -1.3248e-01,  1.0267e-01,  1.1266e-01,  3.5357e-02,\n",
       "                        4.9007e-02,  3.9029e-02,  1.2115e-02, -2.0247e-03, -5.0023e-02,\n",
       "                       -1.1928e-01, -2.7398e-02, -1.0653e-01],\n",
       "                      [-8.1041e-02, -1.6513e-01, -1.4298e-01, -2.1495e-02, -2.5637e-02,\n",
       "                       -1.9790e-01,  1.9298e-02,  3.3316e-02,  9.1884e-02,  1.3335e-01,\n",
       "                       -2.0590e-03,  7.9442e-02,  1.3635e-01],\n",
       "                      [-3.1722e-02,  1.8008e-01, -4.7478e-03,  1.2751e-01,  6.2348e-03,\n",
       "                        1.6388e-03,  1.3422e-01, -1.5099e-02, -1.5428e-02, -6.2561e-03,\n",
       "                       -4.1389e-02, -6.2109e-02,  1.5754e-01],\n",
       "                      [ 1.3414e-01, -1.2197e-01, -1.5856e-02,  1.6967e-02,  1.9165e-01,\n",
       "                        2.9186e-02,  5.4487e-02,  6.7766e-02,  1.3394e-01,  1.0434e-01,\n",
       "                       -9.0491e-03,  1.0827e-01, -1.1098e-01],\n",
       "                      [ 5.3407e-03, -1.4596e-02,  9.2768e-03, -1.4977e-02, -1.9468e-02,\n",
       "                       -5.6678e-02, -4.8722e-02,  5.7154e-03, -7.1306e-02, -2.9109e-02,\n",
       "                        9.2041e-02, -1.7127e-02, -1.5578e-02],\n",
       "                      [-5.1399e-02, -1.9049e-02, -2.3018e-02,  1.2725e-01,  8.7855e-02,\n",
       "                       -2.4648e-03, -7.9309e-02, -9.1691e-02,  1.0843e-02, -2.5654e-02,\n",
       "                       -1.8806e-02, -1.5235e-01,  7.0877e-02],\n",
       "                      [ 1.1594e-01,  4.4216e-02,  6.3472e-02,  7.4928e-03,  9.4741e-02,\n",
       "                        4.4197e-02,  1.0318e-01,  3.8855e-02,  4.6485e-02,  9.5516e-02,\n",
       "                        1.1199e-01,  5.3872e-02, -5.1319e-02],\n",
       "                      [-5.1003e-02, -7.1906e-02,  5.8501e-02, -9.2013e-02,  5.7032e-03,\n",
       "                        8.4267e-02, -1.0937e-02, -9.5707e-02, -1.3283e-02, -7.5536e-02,\n",
       "                        1.4108e-03,  4.0121e-02,  3.7177e-02],\n",
       "                      [-6.9328e-02, -1.3304e-01,  3.3748e-02,  1.3129e-01,  8.5879e-02,\n",
       "                       -5.2764e-02, -1.3228e-01,  8.2306e-02,  3.8415e-02,  5.2796e-02,\n",
       "                        3.4248e-02,  1.4229e-02, -8.9278e-02],\n",
       "                      [ 5.3313e-02,  5.6713e-02, -4.7624e-02,  1.0282e-01, -5.4629e-02,\n",
       "                        2.9745e-02,  1.0783e-01, -8.2655e-02, -6.8048e-02, -1.1271e-01,\n",
       "                       -1.1316e-01,  3.1547e-02,  3.1202e-02]])),\n",
       "             ('lins.0.m.0.weight',\n",
       "              tensor([0.8217, 0.8607, 0.8970, 1.0164, 0.8398, 0.9639, 0.8049, 0.6982, 0.8227,\n",
       "                      0.8154, 0.9677, 0.8395, 0.8916, 0.8918, 1.0369, 0.8937, 0.8782, 0.8724,\n",
       "                      0.8052, 0.7811, 0.9410, 0.9767, 0.9272, 0.7936, 0.9715, 0.7212, 0.9380,\n",
       "                      0.9763, 0.9737, 1.0561, 0.7820, 0.6785, 0.8998, 0.9394, 0.9979, 0.9373,\n",
       "                      0.9015, 0.7706, 0.7020, 0.7529, 0.8476, 0.8035, 0.8902, 0.9353, 0.7028,\n",
       "                      0.8974, 0.8386, 0.8187, 0.6250, 1.4151, 0.9232, 1.1743, 1.4123, 0.9960,\n",
       "                      1.2132])),\n",
       "             ('lins.0.m.0.bias',\n",
       "              tensor([ 0.0966,  0.0873, -0.0923, -0.0552, -0.0505,  0.1011,  0.0444, -0.0179,\n",
       "                       0.0728, -0.0681,  0.0188, -0.0298, -0.0503,  0.0641,  0.0738,  0.0622,\n",
       "                      -0.0132, -0.0439, -0.1680,  0.0162, -0.0099, -0.0184,  0.1018,  0.0030,\n",
       "                      -0.0958, -0.1818,  0.0185, -0.0374, -0.0409, -0.0088,  0.0892, -0.0327,\n",
       "                      -0.0974, -0.0098, -0.0129, -0.0300, -0.0907,  0.0112,  0.1518, -0.0136,\n",
       "                      -0.0696,  0.0679, -0.0410,  0.1335, -0.0998,  0.1345, -0.0056, -0.0219,\n",
       "                       0.1193, -0.0237,  0.0115, -0.0818, -0.1208,  0.0438, -0.0762])),\n",
       "             ('lins.0.m.0.running_mean',\n",
       "              tensor([ 1.6287e-02, -5.5840e-03, -3.7263e-02,  8.4481e-04,  3.4061e-02,\n",
       "                      -5.7424e-03, -1.6557e-02,  1.0884e-03, -8.9803e-03, -3.0380e-03,\n",
       "                      -3.1533e-02, -3.8604e-02,  2.2190e-02,  2.2263e-02,  5.9030e-03,\n",
       "                      -2.3108e-04, -8.1147e-03,  2.8889e-03,  2.1564e-02,  4.4085e-03,\n",
       "                       1.9138e-02,  3.4367e-03, -3.4013e-03,  9.2786e-03, -3.7783e-03,\n",
       "                       5.0359e-03, -9.3753e-05, -3.5040e-03,  1.9608e-02,  1.0240e-03,\n",
       "                      -5.1979e-02, -4.0870e-02,  6.1003e-02, -7.2028e-03,  2.6667e-03,\n",
       "                      -2.0999e-02, -4.4568e-02, -5.4065e-02,  4.9224e-02, -8.3873e-02,\n",
       "                      -6.7192e-04,  7.5819e-02,  2.1200e-03, -6.6416e-02, -1.1312e-02,\n",
       "                      -6.2573e-02,  2.2609e-03,  3.4040e-02,  3.4621e-02, -1.4686e-04,\n",
       "                       1.5253e-04, -2.5155e-03,  2.1049e-03, -1.0890e-03,  5.5713e-04])),\n",
       "             ('lins.0.m.0.running_var',\n",
       "              tensor([3.1295e-03, 3.1074e-03, 4.0470e-03, 3.5438e-03, 3.1999e-03, 4.4084e-03,\n",
       "                      3.9384e-03, 5.6751e-03, 4.6193e-03, 5.0538e-03, 3.5760e-03, 3.6973e-03,\n",
       "                      4.9824e-03, 4.6726e-03, 5.5347e-03, 2.7863e-03, 8.2030e-03, 1.9447e-03,\n",
       "                      4.6257e-03, 5.1575e-03, 6.1025e-03, 7.6416e-03, 5.7157e-03, 5.0192e-03,\n",
       "                      6.8162e-03, 3.7922e-03, 3.5167e-03, 5.6937e-03, 6.9398e-03, 5.2024e-03,\n",
       "                      2.2754e-03, 1.9553e-03, 1.1853e-03, 3.0689e-03, 5.9893e-03, 3.4963e-03,\n",
       "                      1.5926e-03, 1.3541e-03, 1.1305e-03, 2.5161e-03, 1.5068e-03, 2.1852e-03,\n",
       "                      1.6266e-03, 2.7849e-03, 8.9053e-04, 2.1699e-03, 1.2856e-03, 8.5978e-04,\n",
       "                      1.1193e-03, 1.5881e+00, 9.0399e-01, 1.3034e+00, 1.8306e+00, 1.0104e+00,\n",
       "                      1.3965e+00])),\n",
       "             ('lins.0.m.0.num_batches_tracked', tensor(100)),\n",
       "             ('lins.0.m.1.weight',\n",
       "              tensor([[-0.1365, -0.0240,  0.0778,  ..., -0.0165,  0.0943, -0.1404],\n",
       "                      [-0.0815,  0.0174,  0.0067,  ...,  0.1507, -0.0478,  0.0231],\n",
       "                      [-0.0892,  0.0977, -0.0817,  ...,  0.3811, -0.0907, -0.0033],\n",
       "                      ...,\n",
       "                      [-0.0068, -0.0352, -0.0524,  ..., -0.4477, -0.1034, -0.2382],\n",
       "                      [-0.0305, -0.1055, -0.1453,  ...,  0.3199, -0.1045, -0.0280],\n",
       "                      [ 0.0973, -0.0838, -0.1336,  ...,  0.2244,  0.0299,  0.2705]])),\n",
       "             ('lins.0.m.1.bias',\n",
       "              tensor([-0.1411, -0.0104,  0.1280, -0.0126,  0.0028,  0.0476,  0.0073,  0.1794,\n",
       "                       0.0010,  0.1815, -0.0459,  0.1751, -0.0115,  0.0739,  0.0372,  0.2561,\n",
       "                      -0.1299, -0.0940,  0.0876, -0.0268,  0.1727, -0.1046, -0.1636, -0.1978,\n",
       "                       0.2745,  0.0568, -0.1228,  0.0958,  0.0105,  0.0426, -0.1283,  0.1387,\n",
       "                       0.1859,  0.0757,  0.1192,  0.0612, -0.1108, -0.0657, -0.1859, -0.0870,\n",
       "                       0.1336, -0.1171,  0.0736,  0.0217,  0.2621, -0.0720,  0.0339,  0.0691,\n",
       "                       0.1520, -0.0795,  0.0355, -0.2000, -0.0220,  0.0011, -0.2243,  0.0805,\n",
       "                       0.0011,  0.1016, -0.0926,  0.0134,  0.1692,  0.2022,  0.0192,  0.1030,\n",
       "                      -0.0633, -0.2247, -0.0500,  0.0827,  0.0575, -0.0146, -0.0706, -0.0373,\n",
       "                       0.0348,  0.2314,  0.0614,  0.1020,  0.2573,  0.1511,  0.1371, -0.1112,\n",
       "                       0.0824,  0.1105,  0.0095,  0.1639,  0.1773,  0.0058, -0.2113,  0.0087,\n",
       "                       0.1538,  0.0396, -0.0397,  0.1842, -0.1619,  0.1089, -0.1383,  0.0728,\n",
       "                       0.0056,  0.0118, -0.0673,  0.1355])),\n",
       "             ('lins.1.m.0.weight',\n",
       "              tensor([1.0801, 0.9262, 1.0933, 1.0150, 0.8427, 0.9788, 0.9496, 0.9498, 0.9292,\n",
       "                      1.0271, 0.9537, 1.0714, 1.0024, 1.0757, 1.0650, 0.9883, 1.1455, 1.0097,\n",
       "                      0.9191, 0.9908, 0.9738, 0.9610, 1.0780, 1.0954, 1.0522, 1.0338, 1.0724,\n",
       "                      0.8844, 1.0876, 1.0013, 0.9804, 1.0779, 1.0856, 0.8750, 0.9988, 0.9651,\n",
       "                      1.1466, 1.0997, 0.8970, 0.9535, 0.8354, 0.8852, 1.0028, 0.9402, 1.0756,\n",
       "                      1.0228, 1.0604, 0.9967, 1.0744, 0.8910, 1.0990, 1.0271, 1.0808, 0.9118,\n",
       "                      1.0954, 1.1039, 0.9306, 0.8813, 1.0678, 1.0667, 1.0253, 1.0575, 0.9260,\n",
       "                      0.8837, 1.0168, 1.0311, 0.9171, 0.9691, 0.9972, 0.9716, 0.9625, 1.0809,\n",
       "                      1.0431, 0.9397, 0.9311, 0.9040, 1.0535, 0.9370, 1.0690, 1.1314, 0.9702,\n",
       "                      0.8303, 0.8545, 1.0228, 1.0226, 1.1241, 0.9821, 0.9634, 1.0454, 0.9590,\n",
       "                      1.0596, 1.0944, 0.8029, 1.0969, 1.0396, 1.1373, 1.1068, 1.0299, 0.8961,\n",
       "                      0.9840])),\n",
       "             ('lins.1.m.0.bias',\n",
       "              tensor([ 0.2094,  0.0544, -0.0405,  0.0138,  0.0900, -0.1162, -0.1424,  0.0764,\n",
       "                      -0.1288, -0.1057, -0.0419,  0.0898, -0.1066,  0.0937, -0.1758, -0.0870,\n",
       "                      -0.0755,  0.0887,  0.0125,  0.1257,  0.1643,  0.0423,  0.1017, -0.1040,\n",
       "                      -0.2393, -0.0689, -0.0490,  0.0518, -0.0449, -0.0355,  0.0270, -0.0093,\n",
       "                       0.0978, -0.1216,  0.1847,  0.0041, -0.0962,  0.1015, -0.1231,  0.1179,\n",
       "                       0.1807,  0.0032, -0.1325,  0.1033, -0.1698,  0.0451,  0.1361, -0.0881,\n",
       "                      -0.1309, -0.0169, -0.0469,  0.0038, -0.0438, -0.1126, -0.0390,  0.0343,\n",
       "                       0.0293, -0.0364, -0.1555,  0.0206,  0.2443, -0.0396,  0.0121, -0.0953,\n",
       "                       0.0499, -0.0425,  0.0236,  0.0658,  0.0884, -0.0407, -0.0533, -0.0830,\n",
       "                      -0.0692,  0.1478,  0.0854, -0.0063, -0.0477, -0.0838,  0.0113, -0.1489,\n",
       "                       0.0765,  0.0434,  0.1112, -0.0371,  0.0809, -0.0627, -0.0923, -0.1972,\n",
       "                      -0.0937, -0.0962,  0.1142, -0.0189,  0.2498,  0.0810,  0.1622,  0.0058,\n",
       "                      -0.1882,  0.0521, -0.1454, -0.0158])),\n",
       "             ('lins.1.m.0.running_mean',\n",
       "              tensor([0.2578, 0.3208, 0.2627, 0.3983, 0.4343, 0.4324, 0.3189, 0.5327, 0.3631,\n",
       "                      0.4858, 0.5008, 0.5615, 0.2326, 0.5351, 0.6465, 0.4828, 0.3716, 0.3786,\n",
       "                      0.5165, 0.3043, 0.5318, 0.2736, 0.3240, 0.1631, 0.4744, 0.4317, 0.3083,\n",
       "                      0.3652, 0.4853, 0.4551, 0.4346, 0.5794, 0.5689, 0.3235, 0.5501, 0.3332,\n",
       "                      0.1569, 0.3381, 0.2031, 0.2895, 0.4572, 0.2007, 0.2338, 0.4232, 0.5637,\n",
       "                      0.5041, 0.6255, 0.3519, 0.5532, 0.3413, 0.4505, 0.1502, 0.4062, 0.3320,\n",
       "                      0.1866, 0.5422, 0.4361, 0.4327, 0.2332, 0.4551, 0.5000, 0.4562, 0.4107,\n",
       "                      0.3877, 0.3810, 0.1791, 0.2981, 0.5233, 0.4938, 0.3072, 0.5630, 0.3687,\n",
       "                      0.5255, 0.6427, 0.3530, 0.4297, 0.5634, 0.4767, 0.3924, 0.3149, 0.6425,\n",
       "                      0.3691, 0.4190, 0.5176, 0.5524, 0.4345, 0.1634, 0.2278, 0.4937, 0.3559,\n",
       "                      0.2880, 0.3819, 0.2298, 0.4700, 0.3254, 0.5547, 0.2869, 0.4046, 0.2232,\n",
       "                      0.5407])),\n",
       "             ('lins.1.m.0.running_var',\n",
       "              tensor([0.2299, 0.2776, 0.4090, 0.3232, 0.5167, 0.4891, 0.3553, 0.4499, 0.3433,\n",
       "                      0.5397, 0.5679, 0.3831, 0.4373, 0.4835, 0.8488, 0.5361, 0.2908, 0.3135,\n",
       "                      0.3936, 0.3483, 0.4756, 0.2570, 0.2326, 0.2827, 0.5568, 0.5473, 0.4509,\n",
       "                      0.3932, 0.5741, 0.3564, 0.6131, 0.5457, 0.5989, 0.2009, 0.4216, 0.2888,\n",
       "                      0.4217, 0.2636, 0.3522, 0.2132, 0.2990, 0.2824, 0.4169, 0.2945, 0.7282,\n",
       "                      0.5900, 0.6956, 0.3208, 0.4534, 0.4885, 0.5298, 0.2925, 0.5101, 0.3399,\n",
       "                      0.3953, 0.4866, 0.4078, 0.4614, 0.4292, 0.4013, 0.4084, 0.4898, 0.5147,\n",
       "                      0.3754, 0.3058, 0.3074, 0.4535, 0.3877, 0.3775, 0.3552, 0.6272, 0.2491,\n",
       "                      0.6455, 0.5613, 0.2913, 0.4462, 0.5409, 0.3524, 0.3600, 0.5284, 0.7426,\n",
       "                      0.2648, 0.2958, 0.3990, 0.5036, 0.3784, 0.2243, 0.4310, 0.6297, 0.2835,\n",
       "                      0.1901, 0.4808, 0.1701, 0.3949, 0.2874, 0.4827, 0.5608, 0.3731, 0.2595,\n",
       "                      0.6442])),\n",
       "             ('lins.1.m.0.num_batches_tracked', tensor(100)),\n",
       "             ('lins.1.m.1.weight',\n",
       "              tensor([[ 0.1540,  0.0672,  0.0721,  ..., -0.0653,  0.0036,  0.0552],\n",
       "                      [ 0.0788, -0.0576,  0.0320,  ..., -0.0803, -0.0483, -0.0270],\n",
       "                      [-0.1557, -0.0556,  0.0629,  ...,  0.1652, -0.1335, -0.0081],\n",
       "                      ...,\n",
       "                      [ 0.0685,  0.0883,  0.0409,  ..., -0.1886,  0.1094,  0.1053],\n",
       "                      [ 0.0181, -0.1197, -0.0440,  ...,  0.0251,  0.0721, -0.0556],\n",
       "                      [-0.1327, -0.0319,  0.0407,  ...,  0.0589,  0.0950, -0.0024]])),\n",
       "             ('lins.1.m.1.bias',\n",
       "              tensor([-0.1432, -0.1309, -0.1977, -0.0747,  0.0542, -0.0948, -0.3102, -0.0195,\n",
       "                       0.0414, -0.0323,  0.0269, -0.1049,  0.0739,  0.0902, -0.0869,  0.0872,\n",
       "                       0.0415, -0.2534,  0.0503,  0.0694, -0.0253,  0.0615,  0.0526, -0.1016,\n",
       "                       0.0532, -0.1897, -0.1942,  0.0005, -0.1541, -0.0967,  0.1620,  0.1551,\n",
       "                      -0.1635, -0.0349,  0.1404,  0.0475,  0.1072, -0.0094, -0.3182, -0.0206,\n",
       "                      -0.2042,  0.0550, -0.0771, -0.0626,  0.1117, -0.0607, -0.0044,  0.0367,\n",
       "                      -0.1343, -0.2908])),\n",
       "             ('lins.2.m.0.weight',\n",
       "              tensor([0.8957, 0.8120, 0.8694, 0.8082, 0.7816, 0.9305, 0.7974, 0.8729, 0.9713,\n",
       "                      0.9303, 0.8596, 0.8860, 0.9982, 0.8878, 0.8617, 0.8555, 0.9051, 0.8144,\n",
       "                      0.8793, 0.8529, 0.8371, 0.9484, 0.8750, 0.9331, 0.8683, 0.7884, 0.8840,\n",
       "                      0.9035, 0.8215, 0.8336, 0.8648, 0.9341, 0.8136, 0.8592, 0.8951, 0.9177,\n",
       "                      0.9405, 0.8889, 0.7890, 0.8196, 0.9140, 0.8765, 0.8853, 0.9318, 0.9709,\n",
       "                      0.9060, 0.9097, 0.9031, 0.9135, 0.7704])),\n",
       "             ('lins.2.m.0.bias',\n",
       "              tensor([ 0.2921, -0.3139, -0.0532, -0.2966, -0.1757, -0.3637, -0.3843, -0.3353,\n",
       "                       0.3916, -0.3157, -0.2688,  0.3312,  0.3276,  0.3301,  0.3289,  0.2638,\n",
       "                       0.3085, -0.3851,  0.2603,  0.2409, -0.3268,  0.3187,  0.3237,  0.3273,\n",
       "                       0.2663, -0.2718,  0.1637,  0.2878, -0.3123, -0.3182,  0.2666,  0.3080,\n",
       "                      -0.1094, -0.3471,  0.2696,  0.2461,  0.3299, -0.2921, -0.3969, -0.2317,\n",
       "                      -0.3266, -0.3246,  0.2765, -0.3529,  0.3018,  0.2171, -0.3382, -0.2990,\n",
       "                      -0.0435, -0.2057])),\n",
       "             ('lins.2.m.0.running_mean',\n",
       "              tensor([0.5213, 0.7448, 0.4705, 0.5904, 0.7807, 0.9794, 0.3778, 1.2265, 1.4437,\n",
       "                      0.8934, 0.9883, 1.1880, 1.4036, 0.8002, 0.9118, 1.2621, 1.1463, 0.2736,\n",
       "                      0.6007, 0.7394, 1.1829, 1.2650, 1.3487, 0.8684, 1.3445, 0.4869, 0.4441,\n",
       "                      0.8887, 0.2287, 0.6238, 0.8203, 1.0851, 0.6498, 0.4672, 1.0712, 0.8628,\n",
       "                      1.2463, 0.9687, 0.3759, 0.5989, 0.3209, 0.8849, 0.8488, 1.1985, 1.6304,\n",
       "                      0.9907, 0.5886, 1.2473, 0.1701, 0.2755])),\n",
       "             ('lins.2.m.0.running_var',\n",
       "              tensor([1.4943, 1.5166, 0.6649, 2.1527, 2.1919, 7.2265, 4.3901, 4.3382, 3.7660,\n",
       "                      3.4483, 2.7227, 2.5985, 3.1563, 1.5737, 2.1889, 2.4627, 2.1917, 5.1615,\n",
       "                      0.9419, 0.8436, 5.4239, 2.5966, 2.6369, 2.0273, 2.5196, 3.6314, 0.4782,\n",
       "                      1.4567, 2.5381, 6.7531, 1.1961, 1.5957, 1.0227, 4.2188, 1.4930, 1.3175,\n",
       "                      2.3962, 4.5933, 3.4386, 2.0296, 4.9809, 6.1617, 1.6898, 6.9570, 3.5861,\n",
       "                      1.6233, 6.9726, 4.6808, 1.0761, 2.6213])),\n",
       "             ('lins.2.m.0.num_batches_tracked', tensor(100)),\n",
       "             ('lins.2.m.1.weight',\n",
       "              tensor([[-0.1748,  0.0500,  0.0059,  0.0688, -0.0034,  0.2331,  0.0956,  0.1083,\n",
       "                       -0.1688,  0.1660,  0.0743, -0.1559, -0.2141, -0.0784, -0.0703, -0.1269,\n",
       "                       -0.1668,  0.1256, -0.0802, -0.0125,  0.2095, -0.1798, -0.0797, -0.1933,\n",
       "                       -0.1397,  0.0375, -0.0400, -0.0826,  0.1386,  0.1114, -0.0526, -0.0947,\n",
       "                        0.0139,  0.1126, -0.1250, -0.0710, -0.1462,  0.1046,  0.1824,  0.0304,\n",
       "                        0.2194,  0.2233, -0.1355,  0.1680, -0.2362, -0.0573,  0.2794,  0.1404,\n",
       "                       -0.0306, -0.0187]])),\n",
       "             ('lins.2.m.1.bias', tensor([-0.3892]))])"
      ]
     },
     "execution_count": null,
     "metadata": {},
     "output_type": "execute_result"
    }
   ],
   "source": [
    "learn.model.state_dict()"
   ]
  },
  {
   "cell_type": "code",
   "execution_count": null,
   "metadata": {},
   "outputs": [],
   "source": [
    "def get_dataloaders():\n",
    "    return get_dl(train_ds), get_dl(valid_ds)"
   ]
  },
  {
   "cell_type": "code",
   "execution_count": null,
   "metadata": {},
   "outputs": [],
   "source": [
    "dataloaders = get_dataloaders()\n",
    "tab_nn = get_tabular_model(df, cont, cat, 1, [100, 50])"
   ]
  },
  {
   "cell_type": "code",
   "execution_count": null,
   "metadata": {},
   "outputs": [],
   "source": [
    "# learn = Learner(tab_nn, dataloaders, torch.optim.Adam, nn.BCEWithLogitsLoss(), metrics=accuracy_binary)"
   ]
  },
  {
   "cell_type": "code",
   "execution_count": null,
   "metadata": {},
   "outputs": [],
   "source": [
    "learn = Learner(tab_nn, dataloaders,\n",
    "                torch.optim.Adam, nn.BCEWithLogitsLoss(),\n",
    "                metrics=accuracy_binary, use_gpu=False)"
   ]
  },
  {
   "cell_type": "code",
   "execution_count": null,
   "metadata": {},
   "outputs": [
    {
     "name": "stderr",
     "output_type": "stream",
     "text": [
      "epoch 1: train loss 0.3123: 100%|██████████████████████████████████████| 50/50 [01:03<00:00,  1.28s/it]\n",
      "epoch 1: valid loss 0.3234, accuracy 0.8490: 100%|█████████████████████| 12/12 [00:11<00:00,  1.00it/s]\n",
      "epoch 2: train loss 0.3123: 100%|██████████████████████████████████████| 50/50 [01:04<00:00,  1.29s/it]\n",
      "epoch 2: valid loss 0.3120, accuracy 0.8532: 100%|█████████████████████| 12/12 [00:11<00:00,  1.03it/s]\n"
     ]
    }
   ],
   "source": [
    "learn.fit(2)"
   ]
  },
  {
   "cell_type": "code",
   "execution_count": null,
   "metadata": {},
   "outputs": [],
   "source": [
    "import matplotlib.pyplot as plt"
   ]
  },
  {
   "cell_type": "code",
   "execution_count": null,
   "metadata": {},
   "outputs": [
    {
     "data": {
      "image/png": "[encoded data removed]",
      "text/plain": [
       "<Figure size 432x288 with 1 Axes>"
      ]
     },
     "metadata": {
      "needs_background": "light"
     },
     "output_type": "display_data"
    }
   ],
   "source": [
    "plt.plot(learn.train_losses.values);"
   ]
  },
  {
   "cell_type": "code",
   "execution_count": null,
   "metadata": {},
   "outputs": [
    {
     "data": {
      "text/plain": [
       "[<matplotlib.lines.Line2D at 0x2117e034550>]"
      ]
     },
     "execution_count": null,
     "metadata": {},
     "output_type": "execute_result"
    },
    {
     "data": {
      "image/png": "[encoded data removed]",
      "text/plain": [
       "<Figure size 432x288 with 1 Axes>"
      ]
     },
     "metadata": {
      "needs_background": "light"
     },
     "output_type": "display_data"
    }
   ],
   "source": [
    "plt.plot(learn.valid_losses.values)"
   ]
  },
  {
   "cell_type": "code",
   "execution_count": null,
   "metadata": {},
   "outputs": [],
   "source": [
    "def plot_losses(learn):\n",
    "    fig, ax = plt.subplots(figsize=(8,5))\n",
    "    plt.plot(learn.train_losses.values)\n",
    "    vl = [sum(learn.valid_losses.values[:12])/12, sum(learn.valid_losses.values[12:])/12]\n",
    "    xvl = [(i+1)*len(learn.train_dl) for i in range(learn.epoch+1)]\n",
    "    plt.plot(xvl, vl)\n",
    "    ax.set_xlabel('Batches')\n",
    "    ax.set_ylabel('Loss')\n",
    "    plt.legend(['Train loss', 'Validation loss'])\n",
    "    return ax"
   ]
  },
  {
   "cell_type": "code",
   "execution_count": null,
   "metadata": {},
   "outputs": [
    {
     "data": {
      "text/plain": [
       "<AxesSubplot:xlabel='Batches', ylabel='Loss'>"
      ]
     },
     "execution_count": null,
     "metadata": {},
     "output_type": "execute_result"
    },
    {
     "data": {
      "image/png": "[encoded data removed]",
      "text/plain": [
       "<Figure size 576x360 with 1 Axes>"
      ]
     },
     "metadata": {
      "needs_background": "light"
     },
     "output_type": "display_data"
    }
   ],
   "source": [
    "plot_losses(learn)"
   ]
  },
  {
   "cell_type": "code",
   "execution_count": null,
   "metadata": {},
   "outputs": [
    {
     "data": {
      "text/plain": [
       "Text(0.5, 3.200000000000003, 'batches')"
      ]
     },
     "execution_count": null,
     "metadata": {},
     "output_type": "execute_result"
    }
   ],
   "source": []
  },
  {
   "cell_type": "code",
   "execution_count": null,
   "metadata": {},
   "outputs": [],
   "source": []
  }
 ],
 "metadata": {
  "kernelspec": {
   "display_name": "Python 3",
   "language": "python",
   "name": "python3"
  }
 },
 "nbformat": 4,
 "nbformat_minor": 4
}
