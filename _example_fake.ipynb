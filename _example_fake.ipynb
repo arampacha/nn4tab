{
 "cells": [
  {
   "cell_type": "code",
   "execution_count": null,
   "metadata": {},
   "outputs": [],
   "source": [
    "import numpy as np\n",
    "import pandas as pd\n",
    "from collections import namedtuple\n",
    "import random\n",
    "from math import isclose\n",
    "import pdb"
   ]
  },
  {
   "cell_type": "code",
   "execution_count": null,
   "metadata": {},
   "outputs": [],
   "source": [
    "Stats = namedtuple('Stats', ['mean', 'std'])"
   ]
  },
  {
   "cell_type": "markdown",
   "metadata": {},
   "source": [
    "## Fake data generator"
   ]
  },
  {
   "cell_type": "code",
   "execution_count": null,
   "metadata": {},
   "outputs": [],
   "source": [
    "from nn4tab.test_utils import fake_data"
   ]
  },
  {
   "cell_type": "code",
   "execution_count": null,
   "metadata": {},
   "outputs": [],
   "source": [
    "df, cont_names, cat_names = fake_data(preproc=False)"
   ]
  },
  {
   "cell_type": "code",
   "execution_count": null,
   "metadata": {},
   "outputs": [
    {
     "data": {
      "text/html": [
       "<div>\n",
       "<style scoped>\n",
       "    .dataframe tbody tr th:only-of-type {\n",
       "        vertical-align: middle;\n",
       "    }\n",
       "\n",
       "    .dataframe tbody tr th {\n",
       "        vertical-align: top;\n",
       "    }\n",
       "\n",
       "    .dataframe thead th {\n",
       "        text-align: right;\n",
       "    }\n",
       "</style>\n",
       "<table border=\"1\" class=\"dataframe\">\n",
       "  <thead>\n",
       "    <tr style=\"text-align: right;\">\n",
       "      <th></th>\n",
       "      <th>cont_0</th>\n",
       "      <th>cont_1</th>\n",
       "      <th>cont_2</th>\n",
       "      <th>cont_3</th>\n",
       "      <th>cont_4</th>\n",
       "      <th>cat_0</th>\n",
       "      <th>cat_1</th>\n",
       "      <th>targ</th>\n",
       "    </tr>\n",
       "  </thead>\n",
       "  <tbody>\n",
       "    <tr>\n",
       "      <th>0</th>\n",
       "      <td>-1.738266</td>\n",
       "      <td>-1.336643</td>\n",
       "      <td>-1.361107</td>\n",
       "      <td>-0.351617</td>\n",
       "      <td>-2.312582</td>\n",
       "      <td>2</td>\n",
       "      <td>1</td>\n",
       "      <td>0.0</td>\n",
       "    </tr>\n",
       "    <tr>\n",
       "      <th>1</th>\n",
       "      <td>-0.188897</td>\n",
       "      <td>-0.957229</td>\n",
       "      <td>0.893600</td>\n",
       "      <td>0.956847</td>\n",
       "      <td>1.392258</td>\n",
       "      <td>0</td>\n",
       "      <td>0</td>\n",
       "      <td>1.0</td>\n",
       "    </tr>\n",
       "    <tr>\n",
       "      <th>2</th>\n",
       "      <td>0.767470</td>\n",
       "      <td>-0.053030</td>\n",
       "      <td>0.859794</td>\n",
       "      <td>1.505481</td>\n",
       "      <td>-0.653595</td>\n",
       "      <td>0</td>\n",
       "      <td>1</td>\n",
       "      <td>1.0</td>\n",
       "    </tr>\n",
       "    <tr>\n",
       "      <th>3</th>\n",
       "      <td>0.610351</td>\n",
       "      <td>-0.042674</td>\n",
       "      <td>1.440017</td>\n",
       "      <td>-0.836895</td>\n",
       "      <td>-0.301547</td>\n",
       "      <td>2</td>\n",
       "      <td>1</td>\n",
       "      <td>1.0</td>\n",
       "    </tr>\n",
       "    <tr>\n",
       "      <th>4</th>\n",
       "      <td>0.362339</td>\n",
       "      <td>0.258110</td>\n",
       "      <td>-1.639448</td>\n",
       "      <td>0.360155</td>\n",
       "      <td>-0.118498</td>\n",
       "      <td>2</td>\n",
       "      <td>1</td>\n",
       "      <td>1.0</td>\n",
       "    </tr>\n",
       "  </tbody>\n",
       "</table>\n",
       "</div>"
      ],
      "text/plain": [
       "     cont_0    cont_1    cont_2    cont_3    cont_4  cat_0  cat_1  targ\n",
       "0 -1.738266 -1.336643 -1.361107 -0.351617 -2.312582      2      1   0.0\n",
       "1 -0.188897 -0.957229  0.893600  0.956847  1.392258      0      0   1.0\n",
       "2  0.767470 -0.053030  0.859794  1.505481 -0.653595      0      1   1.0\n",
       "3  0.610351 -0.042674  1.440017 -0.836895 -0.301547      2      1   1.0\n",
       "4  0.362339  0.258110 -1.639448  0.360155 -0.118498      2      1   1.0"
      ]
     },
     "execution_count": null,
     "metadata": {},
     "output_type": "execute_result"
    }
   ],
   "source": [
    "df.head()"
   ]
  },
  {
   "cell_type": "code",
   "execution_count": null,
   "metadata": {},
   "outputs": [],
   "source": [
    "def print_stat(df):\n",
    "    for col in cont_names:\n",
    "        print(f'{col}: mean={df[col].mean():.4f}, std ={df[col].std():.4f}')"
   ]
  },
  {
   "cell_type": "code",
   "execution_count": null,
   "metadata": {},
   "outputs": [
    {
     "name": "stdout",
     "output_type": "stream",
     "text": [
      "mean:  -1.6134366\n",
      "std:  2.5976331\n",
      "mean:  4.811953\n",
      "std:  2.708622\n",
      "mean:  -1.8439788\n",
      "std:  2.4517055\n",
      "mean:  2.847352\n",
      "std:  1.4774374\n",
      "mean:  3.693561\n",
      "std:  2.97212\n"
     ]
    }
   ],
   "source": [
    "for col in cont_names:\n",
    "    print('mean: ', df[col].mean())\n",
    "    print('std: ', df[col].std())\n",
    "#     assert isclose(df[col].mean(), stat[col].mean)\n",
    "#     assert isclose(df[col].std(), stat[col].std)"
   ]
  },
  {
   "cell_type": "code",
   "execution_count": null,
   "metadata": {},
   "outputs": [],
   "source": [
    "rng = np.random.default_rng(0)\n",
    "a = rng.standard_normal(size=(1000,1000))\n",
    "# a = a*2 + 5"
   ]
  },
  {
   "cell_type": "code",
   "execution_count": null,
   "metadata": {},
   "outputs": [],
   "source": [
    "means, stds = a.mean(axis=0), a.std(axis=0)\n",
    "means.std(), stds.std()"
   ]
  },
  {
   "cell_type": "markdown",
   "metadata": {},
   "source": [
    "## Data preprocessing"
   ]
  },
  {
   "cell_type": "code",
   "execution_count": null,
   "metadata": {},
   "outputs": [],
   "source": [
    "from nn4tab.data import Normalize, FillMissing, Categorify"
   ]
  },
  {
   "cell_type": "markdown",
   "metadata": {},
   "source": [
    "## Datasets and dataloaders"
   ]
  },
  {
   "cell_type": "code",
   "execution_count": null,
   "metadata": {},
   "outputs": [],
   "source": [
    "from nn4tab.data import cont_cat_split, TabularDataset, get_dsets"
   ]
  },
  {
   "cell_type": "code",
   "execution_count": null,
   "metadata": {},
   "outputs": [],
   "source": [
    "dep_var = 'targ'"
   ]
  },
  {
   "cell_type": "code",
   "execution_count": null,
   "metadata": {},
   "outputs": [],
   "source": [
    "cont, cat = cont_cat_split(df, dep_var)"
   ]
  },
  {
   "cell_type": "code",
   "execution_count": null,
   "metadata": {},
   "outputs": [],
   "source": [
    "assert cont==cont_names"
   ]
  },
  {
   "cell_type": "code",
   "execution_count": null,
   "metadata": {},
   "outputs": [],
   "source": [
    "assert cat==cat_names"
   ]
  },
  {
   "cell_type": "code",
   "execution_count": null,
   "metadata": {},
   "outputs": [],
   "source": [
    "train_ds, valid_ds = get_dsets(df, cat, cont, [dep_var])"
   ]
  },
  {
   "cell_type": "code",
   "execution_count": null,
   "metadata": {},
   "outputs": [
    {
     "data": {
      "text/plain": [
       "(array([2, 2]),\n",
       " array([-0.46469232,  0.6805593 ,  0.9084532 ,  0.9904088 , -0.2751088 ],\n",
       "       dtype=float32),\n",
       " array([1.], dtype=float32))"
      ]
     },
     "execution_count": null,
     "metadata": {},
     "output_type": "execute_result"
    }
   ],
   "source": [
    "train_ds[0]"
   ]
  },
  {
   "cell_type": "code",
   "execution_count": null,
   "metadata": {},
   "outputs": [
    {
     "data": {
      "text/plain": [
       "(0.66625, 0.665)"
      ]
     },
     "execution_count": null,
     "metadata": {},
     "output_type": "execute_result"
    }
   ],
   "source": [
    "train_ds.data[dep_var].mean(), valid_ds.data['targ'].mean()"
   ]
  },
  {
   "cell_type": "code",
   "execution_count": null,
   "metadata": {},
   "outputs": [],
   "source": []
  }
 ],
 "metadata": {
  "kernelspec": {
   "display_name": "Python 3",
   "language": "python",
   "name": "python3"
  }
 },
 "nbformat": 4,
 "nbformat_minor": 4
}
